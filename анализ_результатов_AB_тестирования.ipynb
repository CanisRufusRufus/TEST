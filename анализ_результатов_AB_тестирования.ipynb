{
 "cells": [
  {
   "cell_type": "markdown",
   "metadata": {},
   "source": [
    "# Проект: Принятие решений в бизнесе \n",
    "\n",
    "Проект выполенен с целью практики полученных навыков и знаний из курса Принятие решений в бизнесе.\n",
    "В проекте реализованы следующие блоки из курса: \n",
    "\n",
    "- Приоретизация гипотез \n",
    "- Проведение А/В-тестирования (заочно проведён, результаты получены) \n",
    "- Анализ A/B-тестирования \n",
    "\n",
    "Примем на сбея роль аналитика крупного интернет-магазина. Вместе с командой маректолгов подготовлены гипотезы. Необходимо приоретизировать гипотезы и провести A/B-тестирование с полсдеующим анализом результатов. \n",
    "\n",
    "Проект состоит из двух частей:\n",
    "\n",
    "**Первая часть:** \n",
    "    Приоретизация гипотез по системам ICE и RICE. Оценка изменений позиций гипотезы в зависимости от выбранного метода. Суть первой части в коротком исследовании влияния параметра охвата на приоритет гипотез.  \n",
    "    \n",
    "**Вторая часть:**\n",
    "    Анализ результатов A/B-тестирования. Посотроение графиков и составление выводов.\n",
    "    Вторая часть проекта включает в себя следующуие пункты: \n",
    "- Создание общей кумулятивной таблицы\n",
    "- Посроение графиков \n",
    "- Исследование выручки по результатам тестирования \n",
    "- Исследование конверсии по результатам тестирования \n",
    "- \n",
    "\n",
    "<a class=\"anchor\" id=\"head-main\"></a>\n",
    "Данные для проекта предоставлены командой образовтельной платформы Практикум.\n",
    "\n",
    "Проект выполнен студентом 37DA+ Соминским Иваном \n",
    "\n",
    "\n",
    "\n",
    "1. [***Первая часть проекта***](#chapter1) \n",
    "\n",
    "    >1.1 <a href='#chapter1-1'>*Импортирование библиотек*</a>\n",
    "    \n",
    "    >1.2 [*Выгрузка и обзор данных*](#chapter1-2)\n",
    "    \n",
    "    >1.3 [*Фреймворк ICE*](#chapter1-3)\n",
    "    \n",
    "    >1.4 [*Фреймворк RICE*](#chapter1-4)\n",
    "    \n",
    "    >1.5 [*Выводы первой части проекта*](#chapter1-5)\n",
    "    \n",
    "\n",
    "2. [***Вторая часть проекта***](#chapter2)\n",
    "\n",
    "    >2.1 [**Знакомство с данными**](#chapter2-1)\n",
    "        \n",
    "      >>2.1.1 [*Выгрузка данных*](#chapter2-1-1)\n",
    "      \n",
    "      >>2.1.2 [*Информация о датасетах*](#chapter2-1-2)\n",
    "      \n",
    "      >>2.1.3 [*Изменение типа данных*](#chapter2-1-3)\n",
    "      \n",
    "      >>2.1.4 [*Размер выборок*](#chapter2-1-4)\n",
    "\n",
    "    >2.2 [**Анализ результатов A/B-тестирования**](#chapter2-2)\n",
    "    \n",
    "      >>2.2.1 [*Тотальная кумулятивная таблица*](#chapter2-2-1)\n",
    "      \n",
    "      >>2.2.2 [*Кумулятивная средняя выручка*](#chapter2-2-2)\n",
    "      \n",
    "      >>2.2.3 [*Кумулятинвый средний чек*](#chapter2-2-3)\n",
    "      \n",
    "      >>2.2.4 [*График относительного среднего чека*](#chapter2-2-4)\n",
    "      \n",
    "      >>2.2.5 [*График среднего числа заказов на посетителя*](#chapter2-2-5)\n",
    "      \n",
    "      >>2.2.6 [*График относительного изменения кумулятивного среднего количества заказов на посетителя группы*](#chapter2-2-6)\n",
    "      \n",
    "      >>2.2.7 [*Среднее количество заказов на покупателя*](#chapter2-2-7)\n",
    "      \n",
    "      >>2.2.8 [*95-й и 99-й перцентили количества заказов на пользователя*](#chapter2-2-8)\n",
    "      \n",
    "      >>2.2.9 [*Точечный график стоимостей заказов*](#chapter2-2-9)\n",
    "      \n",
    "      >>2.2.10 [*95-й и 99-й перцентили стоимости заказов*](#chapter2-2-10)\n",
    "      \n",
    "      >>2.2.11 [*Статистическая разница среднего количества заказов на пользователя между группами*](#chapter2-2-11)\n",
    "      \n",
    "      >>2.2.12 [*Статистическая разница средней стоимости заказа*](#chapter2-2-12)\n",
    "      \n",
    "    \n",
    "    >2.3 [**Итоги анализа результатов тестирования**](#chapter2-3)"
   ]
  },
  {
   "cell_type": "markdown",
   "metadata": {},
   "source": [
    "## Первая часть проекта: приоретизация гипотез <a class=\"anchor\" id=\"chapter1\"></a>"
   ]
  },
  {
   "cell_type": "markdown",
   "metadata": {},
   "source": [
    "**Импортирование библиотек** <a class=\"anchor\" id=\"chapter1-1\"></a>\n",
    "\n",
    "<a href='#head-main'>назад к оглавлению</a>"
   ]
  },
  {
   "cell_type": "code",
   "execution_count": 1,
   "metadata": {},
   "outputs": [],
   "source": [
    "import pandas as pd\n",
    "import numpy as np \n",
    "import scipy.stats as st\n",
    "import matplotlib.pyplot as plt \n",
    "import datetime as dt\n",
    "pd.set_option('display.max_colwidth', 150)\n",
    "pd.set_option('display.max_columns', None)"
   ]
  },
  {
   "cell_type": "markdown",
   "metadata": {},
   "source": [
    "### Выгрузка и обзор данных <a class=\"anchor\" id=\"chapter1-2\"></a>\n",
    "\n",
    "[назад к оглавлению](#head-main)"
   ]
  },
  {
   "cell_type": "code",
   "execution_count": 2,
   "metadata": {
    "scrolled": false
   },
   "outputs": [],
   "source": [
    "try:\n",
    "    hypo = pd.read_csv('/datasets/hypothesis.csv')\n",
    "except:\n",
    "    hypo = pd.read_csv(\"\"\"C:/Users/breaking bear/Desktop/ANALитика данных-ых-ых-хы-хы/Projects_dataset/датасеты_AB_тестирования/hypothesis.csv\"\"\")"
   ]
  },
  {
   "cell_type": "code",
   "execution_count": 3,
   "metadata": {
    "scrolled": false
   },
   "outputs": [
    {
     "data": {
      "text/html": [
       "<div>\n",
       "<style scoped>\n",
       "    .dataframe tbody tr th:only-of-type {\n",
       "        vertical-align: middle;\n",
       "    }\n",
       "\n",
       "    .dataframe tbody tr th {\n",
       "        vertical-align: top;\n",
       "    }\n",
       "\n",
       "    .dataframe thead th {\n",
       "        text-align: right;\n",
       "    }\n",
       "</style>\n",
       "<table border=\"1\" class=\"dataframe\">\n",
       "  <thead>\n",
       "    <tr style=\"text-align: right;\">\n",
       "      <th></th>\n",
       "      <th>Hypothesis</th>\n",
       "      <th>Reach</th>\n",
       "      <th>Impact</th>\n",
       "      <th>Confidence</th>\n",
       "      <th>Efforts</th>\n",
       "    </tr>\n",
       "  </thead>\n",
       "  <tbody>\n",
       "    <tr>\n",
       "      <th>0</th>\n",
       "      <td>Добавить два новых канала привлечения трафика, что позволит привлекать на 30% больше пользователей</td>\n",
       "      <td>3</td>\n",
       "      <td>10</td>\n",
       "      <td>8</td>\n",
       "      <td>6</td>\n",
       "    </tr>\n",
       "    <tr>\n",
       "      <th>1</th>\n",
       "      <td>Запустить собственную службу доставки, что сократит срок доставки заказов</td>\n",
       "      <td>2</td>\n",
       "      <td>5</td>\n",
       "      <td>4</td>\n",
       "      <td>10</td>\n",
       "    </tr>\n",
       "    <tr>\n",
       "      <th>2</th>\n",
       "      <td>Добавить блоки рекомендаций товаров на сайт интернет магазина, чтобы повысить конверсию и средний чек заказа</td>\n",
       "      <td>8</td>\n",
       "      <td>3</td>\n",
       "      <td>7</td>\n",
       "      <td>3</td>\n",
       "    </tr>\n",
       "    <tr>\n",
       "      <th>3</th>\n",
       "      <td>Изменить структура категорий, что увеличит конверсию, т.к. пользователи быстрее найдут нужный товар</td>\n",
       "      <td>8</td>\n",
       "      <td>3</td>\n",
       "      <td>3</td>\n",
       "      <td>8</td>\n",
       "    </tr>\n",
       "    <tr>\n",
       "      <th>4</th>\n",
       "      <td>Изменить цвет фона главной страницы, чтобы увеличить вовлеченность пользователей</td>\n",
       "      <td>3</td>\n",
       "      <td>1</td>\n",
       "      <td>1</td>\n",
       "      <td>1</td>\n",
       "    </tr>\n",
       "    <tr>\n",
       "      <th>5</th>\n",
       "      <td>Добавить страницу отзывов клиентов о магазине, что позволит увеличить количество заказов</td>\n",
       "      <td>3</td>\n",
       "      <td>2</td>\n",
       "      <td>2</td>\n",
       "      <td>3</td>\n",
       "    </tr>\n",
       "    <tr>\n",
       "      <th>6</th>\n",
       "      <td>Показать на главной странице баннеры с актуальными акциями и распродажами, чтобы увеличить конверсию</td>\n",
       "      <td>5</td>\n",
       "      <td>3</td>\n",
       "      <td>8</td>\n",
       "      <td>3</td>\n",
       "    </tr>\n",
       "    <tr>\n",
       "      <th>7</th>\n",
       "      <td>Добавить форму подписки на все основные страницы, чтобы собрать базу клиентов для email-рассылок</td>\n",
       "      <td>10</td>\n",
       "      <td>7</td>\n",
       "      <td>8</td>\n",
       "      <td>5</td>\n",
       "    </tr>\n",
       "    <tr>\n",
       "      <th>8</th>\n",
       "      <td>Запустить акцию, дающую скидку на товар в день рождения</td>\n",
       "      <td>1</td>\n",
       "      <td>9</td>\n",
       "      <td>9</td>\n",
       "      <td>5</td>\n",
       "    </tr>\n",
       "  </tbody>\n",
       "</table>\n",
       "</div>"
      ],
      "text/plain": [
       "                                                                                                     Hypothesis  \\\n",
       "0            Добавить два новых канала привлечения трафика, что позволит привлекать на 30% больше пользователей   \n",
       "1                                     Запустить собственную службу доставки, что сократит срок доставки заказов   \n",
       "2  Добавить блоки рекомендаций товаров на сайт интернет магазина, чтобы повысить конверсию и средний чек заказа   \n",
       "3           Изменить структура категорий, что увеличит конверсию, т.к. пользователи быстрее найдут нужный товар   \n",
       "4                              Изменить цвет фона главной страницы, чтобы увеличить вовлеченность пользователей   \n",
       "5                      Добавить страницу отзывов клиентов о магазине, что позволит увеличить количество заказов   \n",
       "6          Показать на главной странице баннеры с актуальными акциями и распродажами, чтобы увеличить конверсию   \n",
       "7              Добавить форму подписки на все основные страницы, чтобы собрать базу клиентов для email-рассылок   \n",
       "8                                                       Запустить акцию, дающую скидку на товар в день рождения   \n",
       "\n",
       "   Reach  Impact  Confidence  Efforts  \n",
       "0      3      10           8        6  \n",
       "1      2       5           4       10  \n",
       "2      8       3           7        3  \n",
       "3      8       3           3        8  \n",
       "4      3       1           1        1  \n",
       "5      3       2           2        3  \n",
       "6      5       3           8        3  \n",
       "7     10       7           8        5  \n",
       "8      1       9           9        5  "
      ]
     },
     "metadata": {},
     "output_type": "display_data"
    },
    {
     "data": {
      "text/html": [
       "<div>\n",
       "<style scoped>\n",
       "    .dataframe tbody tr th:only-of-type {\n",
       "        vertical-align: middle;\n",
       "    }\n",
       "\n",
       "    .dataframe tbody tr th {\n",
       "        vertical-align: top;\n",
       "    }\n",
       "\n",
       "    .dataframe thead th {\n",
       "        text-align: right;\n",
       "    }\n",
       "</style>\n",
       "<table border=\"1\" class=\"dataframe\">\n",
       "  <thead>\n",
       "    <tr style=\"text-align: right;\">\n",
       "      <th></th>\n",
       "      <th>Reach</th>\n",
       "      <th>Impact</th>\n",
       "      <th>Confidence</th>\n",
       "      <th>Efforts</th>\n",
       "    </tr>\n",
       "  </thead>\n",
       "  <tbody>\n",
       "    <tr>\n",
       "      <th>count</th>\n",
       "      <td>9.000000</td>\n",
       "      <td>9.000000</td>\n",
       "      <td>9.000000</td>\n",
       "      <td>9.000000</td>\n",
       "    </tr>\n",
       "    <tr>\n",
       "      <th>mean</th>\n",
       "      <td>4.777778</td>\n",
       "      <td>4.777778</td>\n",
       "      <td>5.555556</td>\n",
       "      <td>4.888889</td>\n",
       "    </tr>\n",
       "    <tr>\n",
       "      <th>std</th>\n",
       "      <td>3.153481</td>\n",
       "      <td>3.192874</td>\n",
       "      <td>3.045944</td>\n",
       "      <td>2.803767</td>\n",
       "    </tr>\n",
       "    <tr>\n",
       "      <th>min</th>\n",
       "      <td>1.000000</td>\n",
       "      <td>1.000000</td>\n",
       "      <td>1.000000</td>\n",
       "      <td>1.000000</td>\n",
       "    </tr>\n",
       "    <tr>\n",
       "      <th>25%</th>\n",
       "      <td>3.000000</td>\n",
       "      <td>3.000000</td>\n",
       "      <td>3.000000</td>\n",
       "      <td>3.000000</td>\n",
       "    </tr>\n",
       "    <tr>\n",
       "      <th>50%</th>\n",
       "      <td>3.000000</td>\n",
       "      <td>3.000000</td>\n",
       "      <td>7.000000</td>\n",
       "      <td>5.000000</td>\n",
       "    </tr>\n",
       "    <tr>\n",
       "      <th>75%</th>\n",
       "      <td>8.000000</td>\n",
       "      <td>7.000000</td>\n",
       "      <td>8.000000</td>\n",
       "      <td>6.000000</td>\n",
       "    </tr>\n",
       "    <tr>\n",
       "      <th>max</th>\n",
       "      <td>10.000000</td>\n",
       "      <td>10.000000</td>\n",
       "      <td>9.000000</td>\n",
       "      <td>10.000000</td>\n",
       "    </tr>\n",
       "  </tbody>\n",
       "</table>\n",
       "</div>"
      ],
      "text/plain": [
       "           Reach     Impact  Confidence    Efforts\n",
       "count   9.000000   9.000000    9.000000   9.000000\n",
       "mean    4.777778   4.777778    5.555556   4.888889\n",
       "std     3.153481   3.192874    3.045944   2.803767\n",
       "min     1.000000   1.000000    1.000000   1.000000\n",
       "25%     3.000000   3.000000    3.000000   3.000000\n",
       "50%     3.000000   3.000000    7.000000   5.000000\n",
       "75%     8.000000   7.000000    8.000000   6.000000\n",
       "max    10.000000  10.000000    9.000000  10.000000"
      ]
     },
     "metadata": {},
     "output_type": "display_data"
    },
    {
     "name": "stdout",
     "output_type": "stream",
     "text": [
      "<class 'pandas.core.frame.DataFrame'>\n",
      "RangeIndex: 9 entries, 0 to 8\n",
      "Data columns (total 5 columns):\n",
      " #   Column      Non-Null Count  Dtype \n",
      "---  ------      --------------  ----- \n",
      " 0   Hypothesis  9 non-null      object\n",
      " 1   Reach       9 non-null      int64 \n",
      " 2   Impact      9 non-null      int64 \n",
      " 3   Confidence  9 non-null      int64 \n",
      " 4   Efforts     9 non-null      int64 \n",
      "dtypes: int64(4), object(1)\n",
      "memory usage: 492.0+ bytes\n"
     ]
    }
   ],
   "source": [
    "\n",
    "\n",
    "display(hypo)\n",
    "display(hypo.describe())\n",
    "hypo.info()"
   ]
  },
  {
   "cell_type": "markdown",
   "metadata": {},
   "source": [
    "### ICE <a class=\"anchor\" id=\"chapter1-3\"></a>\n",
    "\n",
    "Для приоретизации по данной системе, исползуются следующие паркаметры: \n",
    "- Impact: параметр, отвечающий за эффективность изменений\n",
    "- Confidence: параметр, оценивающий уверенность в других параметрах \n",
    "- Efforts: затраты ресурсов и вермени на реализацию \n",
    "\n",
    "[назад к оглавлению](#head-main)"
   ]
  },
  {
   "cell_type": "code",
   "execution_count": 4,
   "metadata": {},
   "outputs": [
    {
     "data": {
      "text/html": [
       "<div>\n",
       "<style scoped>\n",
       "    .dataframe tbody tr th:only-of-type {\n",
       "        vertical-align: middle;\n",
       "    }\n",
       "\n",
       "    .dataframe tbody tr th {\n",
       "        vertical-align: top;\n",
       "    }\n",
       "\n",
       "    .dataframe thead th {\n",
       "        text-align: right;\n",
       "    }\n",
       "</style>\n",
       "<table border=\"1\" class=\"dataframe\">\n",
       "  <thead>\n",
       "    <tr style=\"text-align: right;\">\n",
       "      <th></th>\n",
       "      <th>Hypothesis</th>\n",
       "      <th>ICE</th>\n",
       "    </tr>\n",
       "  </thead>\n",
       "  <tbody>\n",
       "    <tr>\n",
       "      <th>8</th>\n",
       "      <td>Запустить акцию, дающую скидку на товар в день рождения</td>\n",
       "      <td>16.20</td>\n",
       "    </tr>\n",
       "    <tr>\n",
       "      <th>0</th>\n",
       "      <td>Добавить два новых канала привлечения трафика, что позволит привлекать на 30% больше пользователей</td>\n",
       "      <td>13.33</td>\n",
       "    </tr>\n",
       "    <tr>\n",
       "      <th>7</th>\n",
       "      <td>Добавить форму подписки на все основные страницы, чтобы собрать базу клиентов для email-рассылок</td>\n",
       "      <td>11.20</td>\n",
       "    </tr>\n",
       "    <tr>\n",
       "      <th>6</th>\n",
       "      <td>Показать на главной странице баннеры с актуальными акциями и распродажами, чтобы увеличить конверсию</td>\n",
       "      <td>8.00</td>\n",
       "    </tr>\n",
       "    <tr>\n",
       "      <th>2</th>\n",
       "      <td>Добавить блоки рекомендаций товаров на сайт интернет магазина, чтобы повысить конверсию и средний чек заказа</td>\n",
       "      <td>7.00</td>\n",
       "    </tr>\n",
       "    <tr>\n",
       "      <th>1</th>\n",
       "      <td>Запустить собственную службу доставки, что сократит срок доставки заказов</td>\n",
       "      <td>2.00</td>\n",
       "    </tr>\n",
       "    <tr>\n",
       "      <th>5</th>\n",
       "      <td>Добавить страницу отзывов клиентов о магазине, что позволит увеличить количество заказов</td>\n",
       "      <td>1.33</td>\n",
       "    </tr>\n",
       "    <tr>\n",
       "      <th>3</th>\n",
       "      <td>Изменить структура категорий, что увеличит конверсию, т.к. пользователи быстрее найдут нужный товар</td>\n",
       "      <td>1.12</td>\n",
       "    </tr>\n",
       "    <tr>\n",
       "      <th>4</th>\n",
       "      <td>Изменить цвет фона главной страницы, чтобы увеличить вовлеченность пользователей</td>\n",
       "      <td>1.00</td>\n",
       "    </tr>\n",
       "  </tbody>\n",
       "</table>\n",
       "</div>"
      ],
      "text/plain": [
       "                                                                                                     Hypothesis  \\\n",
       "8                                                       Запустить акцию, дающую скидку на товар в день рождения   \n",
       "0            Добавить два новых канала привлечения трафика, что позволит привлекать на 30% больше пользователей   \n",
       "7              Добавить форму подписки на все основные страницы, чтобы собрать базу клиентов для email-рассылок   \n",
       "6          Показать на главной странице баннеры с актуальными акциями и распродажами, чтобы увеличить конверсию   \n",
       "2  Добавить блоки рекомендаций товаров на сайт интернет магазина, чтобы повысить конверсию и средний чек заказа   \n",
       "1                                     Запустить собственную службу доставки, что сократит срок доставки заказов   \n",
       "5                      Добавить страницу отзывов клиентов о магазине, что позволит увеличить количество заказов   \n",
       "3           Изменить структура категорий, что увеличит конверсию, т.к. пользователи быстрее найдут нужный товар   \n",
       "4                              Изменить цвет фона главной страницы, чтобы увеличить вовлеченность пользователей   \n",
       "\n",
       "     ICE  \n",
       "8  16.20  \n",
       "0  13.33  \n",
       "7  11.20  \n",
       "6   8.00  \n",
       "2   7.00  \n",
       "1   2.00  \n",
       "5   1.33  \n",
       "3   1.12  \n",
       "4   1.00  "
      ]
     },
     "metadata": {},
     "output_type": "display_data"
    }
   ],
   "source": [
    "hypo['ICE'] = round((hypo['Impact'] * hypo['Confidence']) / hypo['Efforts'], 2)\n",
    "\n",
    "display(hypo[['Hypothesis', 'ICE']].sort_values('ICE', ascending=False))"
   ]
  },
  {
   "cell_type": "markdown",
   "metadata": {},
   "source": [
    "### RICE <a class=\"anchor\" id=\"chapter1-4\"></a>\n",
    "\n",
    "Отличие метода приоретизации - наличие параметра Reach(охват). Данный параметр отвечает за масшатб охвата аудитории \n",
    "\n",
    "[назад к оглавлению](#head-main)"
   ]
  },
  {
   "cell_type": "code",
   "execution_count": 5,
   "metadata": {
    "scrolled": true
   },
   "outputs": [
    {
     "data": {
      "text/html": [
       "<div>\n",
       "<style scoped>\n",
       "    .dataframe tbody tr th:only-of-type {\n",
       "        vertical-align: middle;\n",
       "    }\n",
       "\n",
       "    .dataframe tbody tr th {\n",
       "        vertical-align: top;\n",
       "    }\n",
       "\n",
       "    .dataframe thead th {\n",
       "        text-align: right;\n",
       "    }\n",
       "</style>\n",
       "<table border=\"1\" class=\"dataframe\">\n",
       "  <thead>\n",
       "    <tr style=\"text-align: right;\">\n",
       "      <th></th>\n",
       "      <th>Hypothesis</th>\n",
       "      <th>RICE</th>\n",
       "    </tr>\n",
       "  </thead>\n",
       "  <tbody>\n",
       "    <tr>\n",
       "      <th>7</th>\n",
       "      <td>Добавить форму подписки на все основные страницы, чтобы собрать базу клиентов для email-рассылок</td>\n",
       "      <td>112.0</td>\n",
       "    </tr>\n",
       "    <tr>\n",
       "      <th>2</th>\n",
       "      <td>Добавить блоки рекомендаций товаров на сайт интернет магазина, чтобы повысить конверсию и средний чек заказа</td>\n",
       "      <td>56.0</td>\n",
       "    </tr>\n",
       "    <tr>\n",
       "      <th>0</th>\n",
       "      <td>Добавить два новых канала привлечения трафика, что позволит привлекать на 30% больше пользователей</td>\n",
       "      <td>40.0</td>\n",
       "    </tr>\n",
       "    <tr>\n",
       "      <th>6</th>\n",
       "      <td>Показать на главной странице баннеры с актуальными акциями и распродажами, чтобы увеличить конверсию</td>\n",
       "      <td>40.0</td>\n",
       "    </tr>\n",
       "    <tr>\n",
       "      <th>8</th>\n",
       "      <td>Запустить акцию, дающую скидку на товар в день рождения</td>\n",
       "      <td>16.2</td>\n",
       "    </tr>\n",
       "    <tr>\n",
       "      <th>3</th>\n",
       "      <td>Изменить структура категорий, что увеличит конверсию, т.к. пользователи быстрее найдут нужный товар</td>\n",
       "      <td>9.0</td>\n",
       "    </tr>\n",
       "    <tr>\n",
       "      <th>1</th>\n",
       "      <td>Запустить собственную службу доставки, что сократит срок доставки заказов</td>\n",
       "      <td>4.0</td>\n",
       "    </tr>\n",
       "    <tr>\n",
       "      <th>5</th>\n",
       "      <td>Добавить страницу отзывов клиентов о магазине, что позволит увеличить количество заказов</td>\n",
       "      <td>4.0</td>\n",
       "    </tr>\n",
       "    <tr>\n",
       "      <th>4</th>\n",
       "      <td>Изменить цвет фона главной страницы, чтобы увеличить вовлеченность пользователей</td>\n",
       "      <td>3.0</td>\n",
       "    </tr>\n",
       "  </tbody>\n",
       "</table>\n",
       "</div>"
      ],
      "text/plain": [
       "                                                                                                     Hypothesis  \\\n",
       "7              Добавить форму подписки на все основные страницы, чтобы собрать базу клиентов для email-рассылок   \n",
       "2  Добавить блоки рекомендаций товаров на сайт интернет магазина, чтобы повысить конверсию и средний чек заказа   \n",
       "0            Добавить два новых канала привлечения трафика, что позволит привлекать на 30% больше пользователей   \n",
       "6          Показать на главной странице баннеры с актуальными акциями и распродажами, чтобы увеличить конверсию   \n",
       "8                                                       Запустить акцию, дающую скидку на товар в день рождения   \n",
       "3           Изменить структура категорий, что увеличит конверсию, т.к. пользователи быстрее найдут нужный товар   \n",
       "1                                     Запустить собственную службу доставки, что сократит срок доставки заказов   \n",
       "5                      Добавить страницу отзывов клиентов о магазине, что позволит увеличить количество заказов   \n",
       "4                              Изменить цвет фона главной страницы, чтобы увеличить вовлеченность пользователей   \n",
       "\n",
       "    RICE  \n",
       "7  112.0  \n",
       "2   56.0  \n",
       "0   40.0  \n",
       "6   40.0  \n",
       "8   16.2  \n",
       "3    9.0  \n",
       "1    4.0  \n",
       "5    4.0  \n",
       "4    3.0  "
      ]
     },
     "metadata": {},
     "output_type": "display_data"
    }
   ],
   "source": [
    "hypo['RICE'] = (hypo['Reach'] * hypo['Impact'] * hypo['Confidence']) / hypo['Efforts']\n",
    "\n",
    "display(hypo[['Hypothesis', 'RICE']].sort_values('RICE', ascending=False))"
   ]
  },
  {
   "cell_type": "markdown",
   "metadata": {},
   "source": [
    "### Вывод: <a class=\"anchor\" id=\"chapter1-5\"></a>\n",
    "\n",
    "***Выбор метода приоретизации гипотез существенно влияет на формирование рейтинга за некоторым исключением***: \n",
    "- Гипотезы, которые изначально при использовании метода ICE занимали последние места также распределились в конце списка при учете охвата с незначительными изменениями \n",
    "- Наибольший эффект метод RICE оказывает изменения на положения в изначальном рейтинге ICE естественном образом на те гипотезы, которые охватывают большую часть аудитории\n",
    "- Наблюдается серьёзное падение 8ой гипотезы о скидке в день рождения, ранее она занимала первое место. Можно подумать, что охват у у гипотезы наивысший, однако теоретически не каждый пользователь может указать дату рождения, в том числе возможна ситуация с разовым посещением в любйю другую дату\n",
    "\n",
    "[назад к оглавлению](#head-main)"
   ]
  },
  {
   "cell_type": "markdown",
   "metadata": {},
   "source": [
    "## 2 Вторая часть проекта: Анализ рузальтатов A/B-тестирования <a class=\"anchor\" id=\"chapter2\"></a>"
   ]
  },
  {
   "cell_type": "markdown",
   "metadata": {},
   "source": [
    "### 2.1 Первое знакомство с данными <a class=\"anchor\" id=\"chapter2-1\"></a>\n",
    "\n",
    "[назад к оглавлению](#head-main)"
   ]
  },
  {
   "cell_type": "markdown",
   "metadata": {},
   "source": [
    "#### 2.1.1 Выгрузка данных <a class=\"anchor\" id=\"chapter2-1-1\"></a>\n",
    "\n",
    "[назад к оглавлению](#head-main)"
   ]
  },
  {
   "cell_type": "code",
   "execution_count": 6,
   "metadata": {},
   "outputs": [],
   "source": [
    "try: \n",
    "    orders = pd.read_csv('/datasets/orders.csv')\n",
    "    visitors = pd.read_csv('/datasets/visitors.csv')\n",
    "except:\n",
    "    orders = pd.read_csv('C:/Users/breaking bear/Desktop/ANALитика данных-ых-ых-хы-хы/Projects_dataset/датасеты_AB_тестирования/orders.csv')\n",
    "    visitors = pd.read_csv('C:/Users/breaking bear/Desktop/ANALитика данных-ых-ых-хы-хы/Projects_dataset/датасеты_AB_тестирования/visitors.csv')"
   ]
  },
  {
   "cell_type": "code",
   "execution_count": 7,
   "metadata": {},
   "outputs": [
    {
     "data": {
      "text/html": [
       "<div>\n",
       "<style scoped>\n",
       "    .dataframe tbody tr th:only-of-type {\n",
       "        vertical-align: middle;\n",
       "    }\n",
       "\n",
       "    .dataframe tbody tr th {\n",
       "        vertical-align: top;\n",
       "    }\n",
       "\n",
       "    .dataframe thead th {\n",
       "        text-align: right;\n",
       "    }\n",
       "</style>\n",
       "<table border=\"1\" class=\"dataframe\">\n",
       "  <thead>\n",
       "    <tr style=\"text-align: right;\">\n",
       "      <th></th>\n",
       "      <th>transactionId</th>\n",
       "      <th>visitorId</th>\n",
       "      <th>date</th>\n",
       "      <th>revenue</th>\n",
       "      <th>group</th>\n",
       "    </tr>\n",
       "  </thead>\n",
       "  <tbody>\n",
       "    <tr>\n",
       "      <th>0</th>\n",
       "      <td>3667963787</td>\n",
       "      <td>3312258926</td>\n",
       "      <td>2019-08-15</td>\n",
       "      <td>1650</td>\n",
       "      <td>B</td>\n",
       "    </tr>\n",
       "    <tr>\n",
       "      <th>1</th>\n",
       "      <td>2804400009</td>\n",
       "      <td>3642806036</td>\n",
       "      <td>2019-08-15</td>\n",
       "      <td>730</td>\n",
       "      <td>B</td>\n",
       "    </tr>\n",
       "    <tr>\n",
       "      <th>2</th>\n",
       "      <td>2961555356</td>\n",
       "      <td>4069496402</td>\n",
       "      <td>2019-08-15</td>\n",
       "      <td>400</td>\n",
       "      <td>A</td>\n",
       "    </tr>\n",
       "    <tr>\n",
       "      <th>3</th>\n",
       "      <td>3797467345</td>\n",
       "      <td>1196621759</td>\n",
       "      <td>2019-08-15</td>\n",
       "      <td>9759</td>\n",
       "      <td>B</td>\n",
       "    </tr>\n",
       "    <tr>\n",
       "      <th>4</th>\n",
       "      <td>2282983706</td>\n",
       "      <td>2322279887</td>\n",
       "      <td>2019-08-15</td>\n",
       "      <td>2308</td>\n",
       "      <td>B</td>\n",
       "    </tr>\n",
       "  </tbody>\n",
       "</table>\n",
       "</div>"
      ],
      "text/plain": [
       "   transactionId   visitorId        date  revenue group\n",
       "0     3667963787  3312258926  2019-08-15     1650     B\n",
       "1     2804400009  3642806036  2019-08-15      730     B\n",
       "2     2961555356  4069496402  2019-08-15      400     A\n",
       "3     3797467345  1196621759  2019-08-15     9759     B\n",
       "4     2282983706  2322279887  2019-08-15     2308     B"
      ]
     },
     "metadata": {},
     "output_type": "display_data"
    },
    {
     "data": {
      "text/html": [
       "<div>\n",
       "<style scoped>\n",
       "    .dataframe tbody tr th:only-of-type {\n",
       "        vertical-align: middle;\n",
       "    }\n",
       "\n",
       "    .dataframe tbody tr th {\n",
       "        vertical-align: top;\n",
       "    }\n",
       "\n",
       "    .dataframe thead th {\n",
       "        text-align: right;\n",
       "    }\n",
       "</style>\n",
       "<table border=\"1\" class=\"dataframe\">\n",
       "  <thead>\n",
       "    <tr style=\"text-align: right;\">\n",
       "      <th></th>\n",
       "      <th>date</th>\n",
       "      <th>group</th>\n",
       "      <th>visitors</th>\n",
       "    </tr>\n",
       "  </thead>\n",
       "  <tbody>\n",
       "    <tr>\n",
       "      <th>0</th>\n",
       "      <td>2019-08-01</td>\n",
       "      <td>A</td>\n",
       "      <td>719</td>\n",
       "    </tr>\n",
       "    <tr>\n",
       "      <th>1</th>\n",
       "      <td>2019-08-02</td>\n",
       "      <td>A</td>\n",
       "      <td>619</td>\n",
       "    </tr>\n",
       "    <tr>\n",
       "      <th>2</th>\n",
       "      <td>2019-08-03</td>\n",
       "      <td>A</td>\n",
       "      <td>507</td>\n",
       "    </tr>\n",
       "    <tr>\n",
       "      <th>3</th>\n",
       "      <td>2019-08-04</td>\n",
       "      <td>A</td>\n",
       "      <td>717</td>\n",
       "    </tr>\n",
       "    <tr>\n",
       "      <th>4</th>\n",
       "      <td>2019-08-05</td>\n",
       "      <td>A</td>\n",
       "      <td>756</td>\n",
       "    </tr>\n",
       "  </tbody>\n",
       "</table>\n",
       "</div>"
      ],
      "text/plain": [
       "         date group  visitors\n",
       "0  2019-08-01     A       719\n",
       "1  2019-08-02     A       619\n",
       "2  2019-08-03     A       507\n",
       "3  2019-08-04     A       717\n",
       "4  2019-08-05     A       756"
      ]
     },
     "execution_count": 7,
     "metadata": {},
     "output_type": "execute_result"
    }
   ],
   "source": [
    "display(orders.head(5))\n",
    "visitors.head(5)"
   ]
  },
  {
   "cell_type": "markdown",
   "metadata": {},
   "source": [
    "**В датасете `orders` имеется следующая информация**:\n",
    "\n",
    "- номер id транзакции, `transactionId` \n",
    "- номер id пользователя, совершившего транзакицю, `visitorsId` \n",
    "- дата танзакции, `date`\n",
    "- стоимость заказа, `revenue`\n",
    "- тестируемая группа, `group`\n",
    "\n",
    "**Датасет `visitors` располагает следующей информацией**: \n",
    "- дата посещения, `date` \n",
    "- тестируемая группа, `group`\n",
    "- количество посетителей в указанную дату, `visitors`\n",
    "\n",
    "**Вывод:**\n",
    "- данные успешно выгружены, датасеты сформированы \n",
    "\n",
    "ниже я взял на себя смелость преименовать столбцы для личного удобства "
   ]
  },
  {
   "cell_type": "code",
   "execution_count": 8,
   "metadata": {},
   "outputs": [],
   "source": [
    "orders = orders.rename(columns={'transactionId':'order_id', 'visitorId':'user_id'})"
   ]
  },
  {
   "cell_type": "markdown",
   "metadata": {},
   "source": [
    "#### 2.1.2 Общая ниформация о датасетах <a class=\"anchor\" id=\"chapter2-1-2\"></a>\n",
    "\n",
    "[назад к оглавлению](#head-main)"
   ]
  },
  {
   "cell_type": "code",
   "execution_count": 9,
   "metadata": {},
   "outputs": [
    {
     "name": "stdout",
     "output_type": "stream",
     "text": [
      "<class 'pandas.core.frame.DataFrame'>\n",
      "RangeIndex: 1197 entries, 0 to 1196\n",
      "Data columns (total 5 columns):\n",
      " #   Column    Non-Null Count  Dtype \n",
      "---  ------    --------------  ----- \n",
      " 0   order_id  1197 non-null   int64 \n",
      " 1   user_id   1197 non-null   int64 \n",
      " 2   date      1197 non-null   object\n",
      " 3   revenue   1197 non-null   int64 \n",
      " 4   group     1197 non-null   object\n",
      "dtypes: int64(3), object(2)\n",
      "memory usage: 46.9+ KB\n"
     ]
    },
    {
     "data": {
      "text/plain": [
       "None"
      ]
     },
     "metadata": {},
     "output_type": "display_data"
    },
    {
     "data": {
      "text/html": [
       "<div>\n",
       "<style scoped>\n",
       "    .dataframe tbody tr th:only-of-type {\n",
       "        vertical-align: middle;\n",
       "    }\n",
       "\n",
       "    .dataframe tbody tr th {\n",
       "        vertical-align: top;\n",
       "    }\n",
       "\n",
       "    .dataframe thead th {\n",
       "        text-align: right;\n",
       "    }\n",
       "</style>\n",
       "<table border=\"1\" class=\"dataframe\">\n",
       "  <thead>\n",
       "    <tr style=\"text-align: right;\">\n",
       "      <th></th>\n",
       "      <th>order_id</th>\n",
       "      <th>user_id</th>\n",
       "      <th>revenue</th>\n",
       "    </tr>\n",
       "  </thead>\n",
       "  <tbody>\n",
       "    <tr>\n",
       "      <th>count</th>\n",
       "      <td>1.197000e+03</td>\n",
       "      <td>1.197000e+03</td>\n",
       "      <td>1.197000e+03</td>\n",
       "    </tr>\n",
       "    <tr>\n",
       "      <th>mean</th>\n",
       "      <td>2.155621e+09</td>\n",
       "      <td>2.165960e+09</td>\n",
       "      <td>8.348006e+03</td>\n",
       "    </tr>\n",
       "    <tr>\n",
       "      <th>std</th>\n",
       "      <td>1.229085e+09</td>\n",
       "      <td>1.236014e+09</td>\n",
       "      <td>3.919113e+04</td>\n",
       "    </tr>\n",
       "    <tr>\n",
       "      <th>min</th>\n",
       "      <td>1.062393e+06</td>\n",
       "      <td>5.114589e+06</td>\n",
       "      <td>5.000000e+01</td>\n",
       "    </tr>\n",
       "    <tr>\n",
       "      <th>25%</th>\n",
       "      <td>1.166776e+09</td>\n",
       "      <td>1.111826e+09</td>\n",
       "      <td>1.220000e+03</td>\n",
       "    </tr>\n",
       "    <tr>\n",
       "      <th>50%</th>\n",
       "      <td>2.145194e+09</td>\n",
       "      <td>2.217985e+09</td>\n",
       "      <td>2.978000e+03</td>\n",
       "    </tr>\n",
       "    <tr>\n",
       "      <th>75%</th>\n",
       "      <td>3.237740e+09</td>\n",
       "      <td>3.177606e+09</td>\n",
       "      <td>8.290000e+03</td>\n",
       "    </tr>\n",
       "    <tr>\n",
       "      <th>max</th>\n",
       "      <td>4.293856e+09</td>\n",
       "      <td>4.283872e+09</td>\n",
       "      <td>1.294500e+06</td>\n",
       "    </tr>\n",
       "  </tbody>\n",
       "</table>\n",
       "</div>"
      ],
      "text/plain": [
       "           order_id       user_id       revenue\n",
       "count  1.197000e+03  1.197000e+03  1.197000e+03\n",
       "mean   2.155621e+09  2.165960e+09  8.348006e+03\n",
       "std    1.229085e+09  1.236014e+09  3.919113e+04\n",
       "min    1.062393e+06  5.114589e+06  5.000000e+01\n",
       "25%    1.166776e+09  1.111826e+09  1.220000e+03\n",
       "50%    2.145194e+09  2.217985e+09  2.978000e+03\n",
       "75%    3.237740e+09  3.177606e+09  8.290000e+03\n",
       "max    4.293856e+09  4.283872e+09  1.294500e+06"
      ]
     },
     "metadata": {},
     "output_type": "display_data"
    },
    {
     "name": "stdout",
     "output_type": "stream",
     "text": [
      "<class 'pandas.core.frame.DataFrame'>\n",
      "RangeIndex: 62 entries, 0 to 61\n",
      "Data columns (total 3 columns):\n",
      " #   Column    Non-Null Count  Dtype \n",
      "---  ------    --------------  ----- \n",
      " 0   date      62 non-null     object\n",
      " 1   group     62 non-null     object\n",
      " 2   visitors  62 non-null     int64 \n",
      "dtypes: int64(1), object(2)\n",
      "memory usage: 1.6+ KB\n"
     ]
    },
    {
     "data": {
      "text/plain": [
       "None"
      ]
     },
     "metadata": {},
     "output_type": "display_data"
    },
    {
     "data": {
      "text/html": [
       "<div>\n",
       "<style scoped>\n",
       "    .dataframe tbody tr th:only-of-type {\n",
       "        vertical-align: middle;\n",
       "    }\n",
       "\n",
       "    .dataframe tbody tr th {\n",
       "        vertical-align: top;\n",
       "    }\n",
       "\n",
       "    .dataframe thead th {\n",
       "        text-align: right;\n",
       "    }\n",
       "</style>\n",
       "<table border=\"1\" class=\"dataframe\">\n",
       "  <thead>\n",
       "    <tr style=\"text-align: right;\">\n",
       "      <th></th>\n",
       "      <th>visitors</th>\n",
       "    </tr>\n",
       "  </thead>\n",
       "  <tbody>\n",
       "    <tr>\n",
       "      <th>count</th>\n",
       "      <td>62.000000</td>\n",
       "    </tr>\n",
       "    <tr>\n",
       "      <th>mean</th>\n",
       "      <td>607.290323</td>\n",
       "    </tr>\n",
       "    <tr>\n",
       "      <th>std</th>\n",
       "      <td>114.400560</td>\n",
       "    </tr>\n",
       "    <tr>\n",
       "      <th>min</th>\n",
       "      <td>361.000000</td>\n",
       "    </tr>\n",
       "    <tr>\n",
       "      <th>25%</th>\n",
       "      <td>534.000000</td>\n",
       "    </tr>\n",
       "    <tr>\n",
       "      <th>50%</th>\n",
       "      <td>624.500000</td>\n",
       "    </tr>\n",
       "    <tr>\n",
       "      <th>75%</th>\n",
       "      <td>710.500000</td>\n",
       "    </tr>\n",
       "    <tr>\n",
       "      <th>max</th>\n",
       "      <td>770.000000</td>\n",
       "    </tr>\n",
       "  </tbody>\n",
       "</table>\n",
       "</div>"
      ],
      "text/plain": [
       "         visitors\n",
       "count   62.000000\n",
       "mean   607.290323\n",
       "std    114.400560\n",
       "min    361.000000\n",
       "25%    534.000000\n",
       "50%    624.500000\n",
       "75%    710.500000\n",
       "max    770.000000"
      ]
     },
     "metadata": {},
     "output_type": "display_data"
    }
   ],
   "source": [
    "display(orders.info())\n",
    "display(orders.describe())\n",
    "display(visitors.info())\n",
    "display(visitors.describe())"
   ]
  },
  {
   "cell_type": "markdown",
   "metadata": {},
   "source": [
    "**Вывод:**\n",
    "- Неверный тип данных в столбцах `date`\n",
    "- Пропуски отсутсвуют \n",
    "- Отрицательные значения отсуствуют \n",
    "\n",
    "[назад к оглавлению](#head-main)"
   ]
  },
  {
   "cell_type": "markdown",
   "metadata": {},
   "source": [
    "#### 2.1.3 Изменение типа данных <a class=\"anchor\" id=\"chapter2-1-3\"></a>\n",
    "\n",
    "[назад к оглавлению](#head-main)"
   ]
  },
  {
   "cell_type": "code",
   "execution_count": 10,
   "metadata": {},
   "outputs": [
    {
     "name": "stdout",
     "output_type": "stream",
     "text": [
      "<class 'pandas.core.frame.DataFrame'>\n",
      "RangeIndex: 1197 entries, 0 to 1196\n",
      "Data columns (total 5 columns):\n",
      " #   Column    Non-Null Count  Dtype         \n",
      "---  ------    --------------  -----         \n",
      " 0   order_id  1197 non-null   int64         \n",
      " 1   user_id   1197 non-null   int64         \n",
      " 2   date      1197 non-null   datetime64[ns]\n",
      " 3   revenue   1197 non-null   int64         \n",
      " 4   group     1197 non-null   object        \n",
      "dtypes: datetime64[ns](1), int64(3), object(1)\n",
      "memory usage: 46.9+ KB\n"
     ]
    },
    {
     "data": {
      "text/plain": [
       "None"
      ]
     },
     "metadata": {},
     "output_type": "display_data"
    },
    {
     "name": "stdout",
     "output_type": "stream",
     "text": [
      "<class 'pandas.core.frame.DataFrame'>\n",
      "RangeIndex: 62 entries, 0 to 61\n",
      "Data columns (total 3 columns):\n",
      " #   Column    Non-Null Count  Dtype         \n",
      "---  ------    --------------  -----         \n",
      " 0   date      62 non-null     datetime64[ns]\n",
      " 1   group     62 non-null     object        \n",
      " 2   visitors  62 non-null     int64         \n",
      "dtypes: datetime64[ns](1), int64(1), object(1)\n",
      "memory usage: 1.6+ KB\n"
     ]
    },
    {
     "data": {
      "text/plain": [
       "None"
      ]
     },
     "metadata": {},
     "output_type": "display_data"
    },
    {
     "name": "stdout",
     "output_type": "stream",
     "text": [
      "\n",
      "Временной промежуток таблицы orders: 2019-08-01 - 2019-08-31\n",
      "Временной промежуток таблицы visitors: 2019-08-01 - 2019-08-31\n"
     ]
    }
   ],
   "source": [
    "orders['date'] = pd.to_datetime(orders['date'])\n",
    "visitors['date'] = pd.to_datetime(visitors['date'])\n",
    "display(orders.info())\n",
    "display(visitors.info())\n",
    "\n",
    "orders['date'] = orders['date'].dt.date\n",
    "visitors['date'] = visitors['date'].dt.date\n",
    "\n",
    "print()\n",
    "print('Временной промежуток таблицы orders:',orders['date'].min(),'-',orders['date'].max())\n",
    "print('Временной промежуток таблицы visitors:',visitors['date'].min(),'-',orders['date'].max())"
   ]
  },
  {
   "cell_type": "markdown",
   "metadata": {},
   "source": [
    "**Вывод:**\n",
    "- Тип данных успешно изменён \n",
    "- Дата првоедения тестирования обеих таблиц совпадает \n"
   ]
  },
  {
   "cell_type": "markdown",
   "metadata": {},
   "source": [
    "#### 2.1.4 Оценим равенство тестируемых групп <a class=\"anchor\" id=\"chapter2-1-4\"></a>\n",
    "\n",
    "[назад к оглавлению](#head-main)"
   ]
  },
  {
   "cell_type": "code",
   "execution_count": 11,
   "metadata": {},
   "outputs": [
    {
     "name": "stdout",
     "output_type": "stream",
     "text": [
      "Количество посетителей группы A:\n"
     ]
    },
    {
     "data": {
      "text/plain": [
       "18736"
      ]
     },
     "metadata": {},
     "output_type": "display_data"
    },
    {
     "name": "stdout",
     "output_type": "stream",
     "text": [
      "\n",
      "Количество посетителей группы B:\n"
     ]
    },
    {
     "data": {
      "text/plain": [
       "18916"
      ]
     },
     "execution_count": 11,
     "metadata": {},
     "output_type": "execute_result"
    }
   ],
   "source": [
    "print('Количество посетителей группы A:')\n",
    "display(visitors.query('group==\"A\"')['visitors'].sum())\n",
    "print()\n",
    "print('Количество посетителей группы B:')\n",
    "visitors.query('group==\"B\"')['visitors'].sum()"
   ]
  },
  {
   "cell_type": "markdown",
   "metadata": {},
   "source": [
    "**Вывод:**\n",
    "- Выборки не равны между собой по величине, но очень стремятся к этому \n",
    "\n",
    "Вероятно, один из аспектов деления по группам - канал привлечения. Поскольку проект разработан совместно с маркетинговым отделом, то разные каналы привлечения для разных групп имеют место быть "
   ]
  },
  {
   "cell_type": "markdown",
   "metadata": {},
   "source": [
    "<a class=\"anchor\" id=\"chapter2-2\"></a>\n",
    "### 2.2 Анализ результатов A/B-теста \n",
    "\n",
    "[назад к оглавлению](#head-main)"
   ]
  },
  {
   "cell_type": "markdown",
   "metadata": {},
   "source": [
    "<a class=\"anchor\" id=\"chapter2-2-1\"></a>\n",
    "#### 2.2.1 Тотальная кумулятивная таблица \n",
    "\n",
    "Построим единую таблицу по всем интересующим нас параметрам, привязанным к столбцу с датой: \n",
    "- кумулятивная выручка \n",
    "- кумулятивное количество посетителей \n",
    "- ежедневное количество постетителей \n",
    "- ежедневное количество заказов \n",
    "- кумулятивное количество заказов \n",
    "- кумулятивный средний чек\n",
    "\n",
    "каждый столбец будет присутствовать в двух экземплярах: для группы `A` и группы `B` \n",
    "\n",
    "[назад к оглавлению](#head-main)"
   ]
  },
  {
   "cell_type": "code",
   "execution_count": 12,
   "metadata": {
    "scrolled": false
   },
   "outputs": [
    {
     "data": {
      "text/html": [
       "<div>\n",
       "<style scoped>\n",
       "    .dataframe tbody tr th:only-of-type {\n",
       "        vertical-align: middle;\n",
       "    }\n",
       "\n",
       "    .dataframe tbody tr th {\n",
       "        vertical-align: top;\n",
       "    }\n",
       "\n",
       "    .dataframe thead th {\n",
       "        text-align: right;\n",
       "    }\n",
       "</style>\n",
       "<table border=\"1\" class=\"dataframe\">\n",
       "  <thead>\n",
       "    <tr style=\"text-align: right;\">\n",
       "      <th></th>\n",
       "      <th>date</th>\n",
       "      <th>orders_daily_a</th>\n",
       "      <th>orders_cumsum_a</th>\n",
       "      <th>orders_daily_b</th>\n",
       "      <th>orders_cumsum_b</th>\n",
       "      <th>visitors_daily_a</th>\n",
       "      <th>visitors_daily_b</th>\n",
       "      <th>cumsum_visitors_a</th>\n",
       "      <th>cumsum_visitors_b</th>\n",
       "      <th>cumsum_revenue_a</th>\n",
       "      <th>cumsum_revenue_b</th>\n",
       "      <th>avg_bill_cumsum_a</th>\n",
       "      <th>avg_bill_cumsum_b</th>\n",
       "    </tr>\n",
       "  </thead>\n",
       "  <tbody>\n",
       "    <tr>\n",
       "      <th>0</th>\n",
       "      <td>2019-08-01</td>\n",
       "      <td>24</td>\n",
       "      <td>24</td>\n",
       "      <td>21</td>\n",
       "      <td>21</td>\n",
       "      <td>719</td>\n",
       "      <td>713</td>\n",
       "      <td>719</td>\n",
       "      <td>719</td>\n",
       "      <td>148579</td>\n",
       "      <td>101217</td>\n",
       "      <td>6190.79</td>\n",
       "      <td>4819.86</td>\n",
       "    </tr>\n",
       "    <tr>\n",
       "      <th>1</th>\n",
       "      <td>2019-08-02</td>\n",
       "      <td>20</td>\n",
       "      <td>44</td>\n",
       "      <td>24</td>\n",
       "      <td>45</td>\n",
       "      <td>619</td>\n",
       "      <td>581</td>\n",
       "      <td>1338</td>\n",
       "      <td>1338</td>\n",
       "      <td>242401</td>\n",
       "      <td>266748</td>\n",
       "      <td>5509.11</td>\n",
       "      <td>5927.73</td>\n",
       "    </tr>\n",
       "    <tr>\n",
       "      <th>2</th>\n",
       "      <td>2019-08-03</td>\n",
       "      <td>24</td>\n",
       "      <td>68</td>\n",
       "      <td>16</td>\n",
       "      <td>61</td>\n",
       "      <td>507</td>\n",
       "      <td>509</td>\n",
       "      <td>1845</td>\n",
       "      <td>1845</td>\n",
       "      <td>354874</td>\n",
       "      <td>380996</td>\n",
       "      <td>5218.74</td>\n",
       "      <td>6245.84</td>\n",
       "    </tr>\n",
       "    <tr>\n",
       "      <th>3</th>\n",
       "      <td>2019-08-04</td>\n",
       "      <td>16</td>\n",
       "      <td>84</td>\n",
       "      <td>17</td>\n",
       "      <td>78</td>\n",
       "      <td>717</td>\n",
       "      <td>770</td>\n",
       "      <td>2562</td>\n",
       "      <td>2562</td>\n",
       "      <td>425699</td>\n",
       "      <td>489567</td>\n",
       "      <td>5067.85</td>\n",
       "      <td>6276.50</td>\n",
       "    </tr>\n",
       "    <tr>\n",
       "      <th>4</th>\n",
       "      <td>2019-08-05</td>\n",
       "      <td>25</td>\n",
       "      <td>109</td>\n",
       "      <td>23</td>\n",
       "      <td>101</td>\n",
       "      <td>756</td>\n",
       "      <td>707</td>\n",
       "      <td>3318</td>\n",
       "      <td>3318</td>\n",
       "      <td>549917</td>\n",
       "      <td>581995</td>\n",
       "      <td>5045.11</td>\n",
       "      <td>5762.33</td>\n",
       "    </tr>\n",
       "    <tr>\n",
       "      <th>5</th>\n",
       "      <td>2019-08-06</td>\n",
       "      <td>18</td>\n",
       "      <td>127</td>\n",
       "      <td>28</td>\n",
       "      <td>129</td>\n",
       "      <td>667</td>\n",
       "      <td>655</td>\n",
       "      <td>3985</td>\n",
       "      <td>3985</td>\n",
       "      <td>598401</td>\n",
       "      <td>824337</td>\n",
       "      <td>4711.82</td>\n",
       "      <td>6390.21</td>\n",
       "    </tr>\n",
       "    <tr>\n",
       "      <th>6</th>\n",
       "      <td>2019-08-07</td>\n",
       "      <td>18</td>\n",
       "      <td>145</td>\n",
       "      <td>24</td>\n",
       "      <td>153</td>\n",
       "      <td>644</td>\n",
       "      <td>709</td>\n",
       "      <td>4629</td>\n",
       "      <td>4629</td>\n",
       "      <td>740818</td>\n",
       "      <td>1049671</td>\n",
       "      <td>5109.09</td>\n",
       "      <td>6860.59</td>\n",
       "    </tr>\n",
       "    <tr>\n",
       "      <th>7</th>\n",
       "      <td>2019-08-08</td>\n",
       "      <td>16</td>\n",
       "      <td>161</td>\n",
       "      <td>27</td>\n",
       "      <td>180</td>\n",
       "      <td>610</td>\n",
       "      <td>654</td>\n",
       "      <td>5239</td>\n",
       "      <td>5239</td>\n",
       "      <td>837097</td>\n",
       "      <td>1270589</td>\n",
       "      <td>5199.36</td>\n",
       "      <td>7058.83</td>\n",
       "    </tr>\n",
       "    <tr>\n",
       "      <th>8</th>\n",
       "      <td>2019-08-09</td>\n",
       "      <td>16</td>\n",
       "      <td>177</td>\n",
       "      <td>25</td>\n",
       "      <td>205</td>\n",
       "      <td>617</td>\n",
       "      <td>610</td>\n",
       "      <td>5856</td>\n",
       "      <td>5856</td>\n",
       "      <td>1025603</td>\n",
       "      <td>1431401</td>\n",
       "      <td>5794.37</td>\n",
       "      <td>6982.44</td>\n",
       "    </tr>\n",
       "    <tr>\n",
       "      <th>9</th>\n",
       "      <td>2019-08-10</td>\n",
       "      <td>16</td>\n",
       "      <td>193</td>\n",
       "      <td>23</td>\n",
       "      <td>228</td>\n",
       "      <td>406</td>\n",
       "      <td>369</td>\n",
       "      <td>6262</td>\n",
       "      <td>6262</td>\n",
       "      <td>1236098</td>\n",
       "      <td>1539203</td>\n",
       "      <td>6404.65</td>\n",
       "      <td>6750.89</td>\n",
       "    </tr>\n",
       "    <tr>\n",
       "      <th>10</th>\n",
       "      <td>2019-08-11</td>\n",
       "      <td>13</td>\n",
       "      <td>206</td>\n",
       "      <td>13</td>\n",
       "      <td>241</td>\n",
       "      <td>718</td>\n",
       "      <td>721</td>\n",
       "      <td>6980</td>\n",
       "      <td>6980</td>\n",
       "      <td>1313683</td>\n",
       "      <td>1592513</td>\n",
       "      <td>6377.10</td>\n",
       "      <td>6607.94</td>\n",
       "    </tr>\n",
       "    <tr>\n",
       "      <th>11</th>\n",
       "      <td>2019-08-12</td>\n",
       "      <td>24</td>\n",
       "      <td>230</td>\n",
       "      <td>23</td>\n",
       "      <td>264</td>\n",
       "      <td>595</td>\n",
       "      <td>543</td>\n",
       "      <td>7575</td>\n",
       "      <td>7575</td>\n",
       "      <td>1562873</td>\n",
       "      <td>1734067</td>\n",
       "      <td>6795.10</td>\n",
       "      <td>6568.44</td>\n",
       "    </tr>\n",
       "    <tr>\n",
       "      <th>12</th>\n",
       "      <td>2019-08-13</td>\n",
       "      <td>14</td>\n",
       "      <td>244</td>\n",
       "      <td>21</td>\n",
       "      <td>285</td>\n",
       "      <td>748</td>\n",
       "      <td>769</td>\n",
       "      <td>8323</td>\n",
       "      <td>8323</td>\n",
       "      <td>1826511</td>\n",
       "      <td>1853738</td>\n",
       "      <td>7485.70</td>\n",
       "      <td>6504.34</td>\n",
       "    </tr>\n",
       "    <tr>\n",
       "      <th>13</th>\n",
       "      <td>2019-08-14</td>\n",
       "      <td>24</td>\n",
       "      <td>268</td>\n",
       "      <td>23</td>\n",
       "      <td>308</td>\n",
       "      <td>735</td>\n",
       "      <td>746</td>\n",
       "      <td>9058</td>\n",
       "      <td>9058</td>\n",
       "      <td>1890852</td>\n",
       "      <td>2025446</td>\n",
       "      <td>7055.42</td>\n",
       "      <td>6576.12</td>\n",
       "    </tr>\n",
       "    <tr>\n",
       "      <th>14</th>\n",
       "      <td>2019-08-15</td>\n",
       "      <td>15</td>\n",
       "      <td>283</td>\n",
       "      <td>31</td>\n",
       "      <td>339</td>\n",
       "      <td>628</td>\n",
       "      <td>544</td>\n",
       "      <td>9686</td>\n",
       "      <td>9686</td>\n",
       "      <td>1979057</td>\n",
       "      <td>2367945</td>\n",
       "      <td>6993.13</td>\n",
       "      <td>6985.09</td>\n",
       "    </tr>\n",
       "    <tr>\n",
       "      <th>15</th>\n",
       "      <td>2019-08-16</td>\n",
       "      <td>18</td>\n",
       "      <td>301</td>\n",
       "      <td>20</td>\n",
       "      <td>359</td>\n",
       "      <td>361</td>\n",
       "      <td>413</td>\n",
       "      <td>10047</td>\n",
       "      <td>10047</td>\n",
       "      <td>2078908</td>\n",
       "      <td>2539635</td>\n",
       "      <td>6906.67</td>\n",
       "      <td>7074.19</td>\n",
       "    </tr>\n",
       "    <tr>\n",
       "      <th>16</th>\n",
       "      <td>2019-08-17</td>\n",
       "      <td>10</td>\n",
       "      <td>311</td>\n",
       "      <td>14</td>\n",
       "      <td>373</td>\n",
       "      <td>412</td>\n",
       "      <td>421</td>\n",
       "      <td>10459</td>\n",
       "      <td>10459</td>\n",
       "      <td>2129769</td>\n",
       "      <td>2620790</td>\n",
       "      <td>6848.13</td>\n",
       "      <td>7026.25</td>\n",
       "    </tr>\n",
       "    <tr>\n",
       "      <th>17</th>\n",
       "      <td>2019-08-18</td>\n",
       "      <td>17</td>\n",
       "      <td>328</td>\n",
       "      <td>9</td>\n",
       "      <td>382</td>\n",
       "      <td>668</td>\n",
       "      <td>737</td>\n",
       "      <td>11127</td>\n",
       "      <td>11127</td>\n",
       "      <td>2202167</td>\n",
       "      <td>2686621</td>\n",
       "      <td>6713.92</td>\n",
       "      <td>7033.04</td>\n",
       "    </tr>\n",
       "    <tr>\n",
       "      <th>18</th>\n",
       "      <td>2019-08-19</td>\n",
       "      <td>22</td>\n",
       "      <td>350</td>\n",
       "      <td>21</td>\n",
       "      <td>403</td>\n",
       "      <td>502</td>\n",
       "      <td>487</td>\n",
       "      <td>11629</td>\n",
       "      <td>11629</td>\n",
       "      <td>2391910</td>\n",
       "      <td>4116541</td>\n",
       "      <td>6834.03</td>\n",
       "      <td>10214.74</td>\n",
       "    </tr>\n",
       "    <tr>\n",
       "      <th>19</th>\n",
       "      <td>2019-08-20</td>\n",
       "      <td>12</td>\n",
       "      <td>362</td>\n",
       "      <td>20</td>\n",
       "      <td>423</td>\n",
       "      <td>575</td>\n",
       "      <td>560</td>\n",
       "      <td>12204</td>\n",
       "      <td>12204</td>\n",
       "      <td>2469529</td>\n",
       "      <td>4263815</td>\n",
       "      <td>6821.90</td>\n",
       "      <td>10079.94</td>\n",
       "    </tr>\n",
       "    <tr>\n",
       "      <th>20</th>\n",
       "      <td>2019-08-21</td>\n",
       "      <td>23</td>\n",
       "      <td>385</td>\n",
       "      <td>14</td>\n",
       "      <td>437</td>\n",
       "      <td>646</td>\n",
       "      <td>656</td>\n",
       "      <td>12850</td>\n",
       "      <td>12850</td>\n",
       "      <td>2643838</td>\n",
       "      <td>4426892</td>\n",
       "      <td>6867.11</td>\n",
       "      <td>10130.19</td>\n",
       "    </tr>\n",
       "    <tr>\n",
       "      <th>21</th>\n",
       "      <td>2019-08-22</td>\n",
       "      <td>16</td>\n",
       "      <td>401</td>\n",
       "      <td>25</td>\n",
       "      <td>462</td>\n",
       "      <td>609</td>\n",
       "      <td>650</td>\n",
       "      <td>13459</td>\n",
       "      <td>13459</td>\n",
       "      <td>2756579</td>\n",
       "      <td>4589247</td>\n",
       "      <td>6874.26</td>\n",
       "      <td>9933.44</td>\n",
       "    </tr>\n",
       "    <tr>\n",
       "      <th>22</th>\n",
       "      <td>2019-08-23</td>\n",
       "      <td>25</td>\n",
       "      <td>426</td>\n",
       "      <td>15</td>\n",
       "      <td>477</td>\n",
       "      <td>468</td>\n",
       "      <td>546</td>\n",
       "      <td>13927</td>\n",
       "      <td>13927</td>\n",
       "      <td>2874367</td>\n",
       "      <td>4703216</td>\n",
       "      <td>6747.34</td>\n",
       "      <td>9859.99</td>\n",
       "    </tr>\n",
       "    <tr>\n",
       "      <th>23</th>\n",
       "      <td>2019-08-24</td>\n",
       "      <td>15</td>\n",
       "      <td>441</td>\n",
       "      <td>16</td>\n",
       "      <td>493</td>\n",
       "      <td>395</td>\n",
       "      <td>378</td>\n",
       "      <td>14322</td>\n",
       "      <td>14322</td>\n",
       "      <td>3002070</td>\n",
       "      <td>4798722</td>\n",
       "      <td>6807.41</td>\n",
       "      <td>9733.72</td>\n",
       "    </tr>\n",
       "    <tr>\n",
       "      <th>24</th>\n",
       "      <td>2019-08-25</td>\n",
       "      <td>10</td>\n",
       "      <td>451</td>\n",
       "      <td>14</td>\n",
       "      <td>507</td>\n",
       "      <td>621</td>\n",
       "      <td>679</td>\n",
       "      <td>14943</td>\n",
       "      <td>14943</td>\n",
       "      <td>3070704</td>\n",
       "      <td>4901584</td>\n",
       "      <td>6808.66</td>\n",
       "      <td>9667.82</td>\n",
       "    </tr>\n",
       "    <tr>\n",
       "      <th>25</th>\n",
       "      <td>2019-08-26</td>\n",
       "      <td>16</td>\n",
       "      <td>467</td>\n",
       "      <td>25</td>\n",
       "      <td>532</td>\n",
       "      <td>722</td>\n",
       "      <td>676</td>\n",
       "      <td>15665</td>\n",
       "      <td>15665</td>\n",
       "      <td>3227918</td>\n",
       "      <td>5084583</td>\n",
       "      <td>6912.03</td>\n",
       "      <td>9557.49</td>\n",
       "    </tr>\n",
       "    <tr>\n",
       "      <th>26</th>\n",
       "      <td>2019-08-27</td>\n",
       "      <td>28</td>\n",
       "      <td>495</td>\n",
       "      <td>16</td>\n",
       "      <td>548</td>\n",
       "      <td>711</td>\n",
       "      <td>720</td>\n",
       "      <td>16376</td>\n",
       "      <td>16376</td>\n",
       "      <td>3514698</td>\n",
       "      <td>5232260</td>\n",
       "      <td>7100.40</td>\n",
       "      <td>9547.92</td>\n",
       "    </tr>\n",
       "    <tr>\n",
       "      <th>27</th>\n",
       "      <td>2019-08-28</td>\n",
       "      <td>17</td>\n",
       "      <td>512</td>\n",
       "      <td>28</td>\n",
       "      <td>576</td>\n",
       "      <td>594</td>\n",
       "      <td>654</td>\n",
       "      <td>16970</td>\n",
       "      <td>16970</td>\n",
       "      <td>3615820</td>\n",
       "      <td>5328268</td>\n",
       "      <td>7062.15</td>\n",
       "      <td>9250.47</td>\n",
       "    </tr>\n",
       "    <tr>\n",
       "      <th>28</th>\n",
       "      <td>2019-08-29</td>\n",
       "      <td>22</td>\n",
       "      <td>534</td>\n",
       "      <td>20</td>\n",
       "      <td>596</td>\n",
       "      <td>577</td>\n",
       "      <td>531</td>\n",
       "      <td>17547</td>\n",
       "      <td>17547</td>\n",
       "      <td>3936510</td>\n",
       "      <td>5559398</td>\n",
       "      <td>7371.74</td>\n",
       "      <td>9327.85</td>\n",
       "    </tr>\n",
       "    <tr>\n",
       "      <th>29</th>\n",
       "      <td>2019-08-30</td>\n",
       "      <td>11</td>\n",
       "      <td>545</td>\n",
       "      <td>24</td>\n",
       "      <td>620</td>\n",
       "      <td>490</td>\n",
       "      <td>490</td>\n",
       "      <td>18037</td>\n",
       "      <td>18037</td>\n",
       "      <td>4022970</td>\n",
       "      <td>5774631</td>\n",
       "      <td>7381.60</td>\n",
       "      <td>9313.92</td>\n",
       "    </tr>\n",
       "    <tr>\n",
       "      <th>30</th>\n",
       "      <td>2019-08-31</td>\n",
       "      <td>12</td>\n",
       "      <td>557</td>\n",
       "      <td>20</td>\n",
       "      <td>640</td>\n",
       "      <td>699</td>\n",
       "      <td>718</td>\n",
       "      <td>18736</td>\n",
       "      <td>18736</td>\n",
       "      <td>4084803</td>\n",
       "      <td>5907760</td>\n",
       "      <td>7333.58</td>\n",
       "      <td>9230.88</td>\n",
       "    </tr>\n",
       "  </tbody>\n",
       "</table>\n",
       "</div>"
      ],
      "text/plain": [
       "          date  orders_daily_a  orders_cumsum_a  orders_daily_b  \\\n",
       "0   2019-08-01              24               24              21   \n",
       "1   2019-08-02              20               44              24   \n",
       "2   2019-08-03              24               68              16   \n",
       "3   2019-08-04              16               84              17   \n",
       "4   2019-08-05              25              109              23   \n",
       "5   2019-08-06              18              127              28   \n",
       "6   2019-08-07              18              145              24   \n",
       "7   2019-08-08              16              161              27   \n",
       "8   2019-08-09              16              177              25   \n",
       "9   2019-08-10              16              193              23   \n",
       "10  2019-08-11              13              206              13   \n",
       "11  2019-08-12              24              230              23   \n",
       "12  2019-08-13              14              244              21   \n",
       "13  2019-08-14              24              268              23   \n",
       "14  2019-08-15              15              283              31   \n",
       "15  2019-08-16              18              301              20   \n",
       "16  2019-08-17              10              311              14   \n",
       "17  2019-08-18              17              328               9   \n",
       "18  2019-08-19              22              350              21   \n",
       "19  2019-08-20              12              362              20   \n",
       "20  2019-08-21              23              385              14   \n",
       "21  2019-08-22              16              401              25   \n",
       "22  2019-08-23              25              426              15   \n",
       "23  2019-08-24              15              441              16   \n",
       "24  2019-08-25              10              451              14   \n",
       "25  2019-08-26              16              467              25   \n",
       "26  2019-08-27              28              495              16   \n",
       "27  2019-08-28              17              512              28   \n",
       "28  2019-08-29              22              534              20   \n",
       "29  2019-08-30              11              545              24   \n",
       "30  2019-08-31              12              557              20   \n",
       "\n",
       "    orders_cumsum_b  visitors_daily_a  visitors_daily_b  cumsum_visitors_a  \\\n",
       "0                21               719               713                719   \n",
       "1                45               619               581               1338   \n",
       "2                61               507               509               1845   \n",
       "3                78               717               770               2562   \n",
       "4               101               756               707               3318   \n",
       "5               129               667               655               3985   \n",
       "6               153               644               709               4629   \n",
       "7               180               610               654               5239   \n",
       "8               205               617               610               5856   \n",
       "9               228               406               369               6262   \n",
       "10              241               718               721               6980   \n",
       "11              264               595               543               7575   \n",
       "12              285               748               769               8323   \n",
       "13              308               735               746               9058   \n",
       "14              339               628               544               9686   \n",
       "15              359               361               413              10047   \n",
       "16              373               412               421              10459   \n",
       "17              382               668               737              11127   \n",
       "18              403               502               487              11629   \n",
       "19              423               575               560              12204   \n",
       "20              437               646               656              12850   \n",
       "21              462               609               650              13459   \n",
       "22              477               468               546              13927   \n",
       "23              493               395               378              14322   \n",
       "24              507               621               679              14943   \n",
       "25              532               722               676              15665   \n",
       "26              548               711               720              16376   \n",
       "27              576               594               654              16970   \n",
       "28              596               577               531              17547   \n",
       "29              620               490               490              18037   \n",
       "30              640               699               718              18736   \n",
       "\n",
       "    cumsum_visitors_b  cumsum_revenue_a  cumsum_revenue_b  avg_bill_cumsum_a  \\\n",
       "0                 719            148579            101217            6190.79   \n",
       "1                1338            242401            266748            5509.11   \n",
       "2                1845            354874            380996            5218.74   \n",
       "3                2562            425699            489567            5067.85   \n",
       "4                3318            549917            581995            5045.11   \n",
       "5                3985            598401            824337            4711.82   \n",
       "6                4629            740818           1049671            5109.09   \n",
       "7                5239            837097           1270589            5199.36   \n",
       "8                5856           1025603           1431401            5794.37   \n",
       "9                6262           1236098           1539203            6404.65   \n",
       "10               6980           1313683           1592513            6377.10   \n",
       "11               7575           1562873           1734067            6795.10   \n",
       "12               8323           1826511           1853738            7485.70   \n",
       "13               9058           1890852           2025446            7055.42   \n",
       "14               9686           1979057           2367945            6993.13   \n",
       "15              10047           2078908           2539635            6906.67   \n",
       "16              10459           2129769           2620790            6848.13   \n",
       "17              11127           2202167           2686621            6713.92   \n",
       "18              11629           2391910           4116541            6834.03   \n",
       "19              12204           2469529           4263815            6821.90   \n",
       "20              12850           2643838           4426892            6867.11   \n",
       "21              13459           2756579           4589247            6874.26   \n",
       "22              13927           2874367           4703216            6747.34   \n",
       "23              14322           3002070           4798722            6807.41   \n",
       "24              14943           3070704           4901584            6808.66   \n",
       "25              15665           3227918           5084583            6912.03   \n",
       "26              16376           3514698           5232260            7100.40   \n",
       "27              16970           3615820           5328268            7062.15   \n",
       "28              17547           3936510           5559398            7371.74   \n",
       "29              18037           4022970           5774631            7381.60   \n",
       "30              18736           4084803           5907760            7333.58   \n",
       "\n",
       "    avg_bill_cumsum_b  \n",
       "0             4819.86  \n",
       "1             5927.73  \n",
       "2             6245.84  \n",
       "3             6276.50  \n",
       "4             5762.33  \n",
       "5             6390.21  \n",
       "6             6860.59  \n",
       "7             7058.83  \n",
       "8             6982.44  \n",
       "9             6750.89  \n",
       "10            6607.94  \n",
       "11            6568.44  \n",
       "12            6504.34  \n",
       "13            6576.12  \n",
       "14            6985.09  \n",
       "15            7074.19  \n",
       "16            7026.25  \n",
       "17            7033.04  \n",
       "18           10214.74  \n",
       "19           10079.94  \n",
       "20           10130.19  \n",
       "21            9933.44  \n",
       "22            9859.99  \n",
       "23            9733.72  \n",
       "24            9667.82  \n",
       "25            9557.49  \n",
       "26            9547.92  \n",
       "27            9250.47  \n",
       "28            9327.85  \n",
       "29            9313.92  \n",
       "30            9230.88  "
      ]
     },
     "execution_count": 12,
     "metadata": {},
     "output_type": "execute_result"
    }
   ],
   "source": [
    "visitors_daily_a = visitors.query('group==\"A\"')[['date','visitors']]\n",
    "visitors_daily_b = visitors.query('group==\"B\"')[['date','visitors']]\n",
    "\n",
    "# кумулятивное количество поситетелй сайта группы A\n",
    "visitors_cumsum_a = visitors_daily_a.apply(lambda x: \n",
    "                                        visitors_daily_a[visitors_daily_a['date']<=x['date']]\n",
    "                                        .agg({'date':'max', 'visitors':'sum'})\n",
    "                                       ,axis=1).rename(columns={'visitors':'cumsum_visitors_a'})\n",
    "\n",
    "# кумулятивное количество поситетелй сайта группы B \n",
    "visitors_cumsum_b = visitors_daily_b.apply(lambda x: \n",
    "                                        visitors_daily_a[visitors_daily_a['date']<=x['date']]\n",
    "                                        .agg({'date':'max', 'visitors':'sum'})\n",
    "                                       ,axis=1).rename(columns={'visitors':'cumsum_visitors_b'})\n",
    "# кумулятвиная выручка группы А\n",
    "revenue_cumsum_a = (orders.query('group==\"A\"').groupby('date', as_index=False)['revenue'].sum())\n",
    "revenue_cumsum_a['revenue'] = np.cumsum(revenue_cumsum_a['revenue'], axis=0)\n",
    "revenue_cumsum_a = revenue_cumsum_a.rename(columns={'revenue':'cumsum_revenue_a'})\n",
    "\n",
    "# кумулятивная выручка группы B \n",
    "revenue_cumsum_b = (orders.query('group==\"B\"').groupby('date', as_index=False)['revenue'].sum())\n",
    "revenue_cumsum_b['revenue'] = np.cumsum(revenue_cumsum_b['revenue'], axis=0)\n",
    "revenue_cumsum_b = revenue_cumsum_b.rename(columns={'revenue':'cumsum_revenue_b'})\n",
    "\n",
    "# кумулятивная таблица заказов A \n",
    "orders_daily_a = (orders.query('group==\"A\"')\n",
    "                           .groupby('date', as_index=False)\n",
    "                           .agg({'order_id':pd.Series.nunique})\n",
    "                           .rename(columns={'order_id':'orders_daily_a'}))\n",
    "orders_cumsum_a = orders_daily_a\n",
    "orders_cumsum_a['orders_cumsum_a'] = np.cumsum(orders_cumsum_a['orders_daily_a'], axis=0)\n",
    "orders_cumsum_a = orders_cumsum_a.drop(columns='orders_daily_a')\n",
    "\n",
    "# кумулятивная таблица заказов B \n",
    "orders_daily_b = (orders.query('group==\"B\"')\n",
    "                           .groupby('date', as_index=False)\n",
    "                           .agg({'order_id':pd.Series.nunique})\n",
    "                           .rename(columns={'order_id':'orders_daily_b'}))\n",
    "orders_cumsum_b = orders_daily_b\n",
    "orders_cumsum_b['orders_cumsum_b'] = np.cumsum(orders_cumsum_b['orders_daily_b'], axis=0)\n",
    "orders_cumsum_b = orders_cumsum_b.drop(columns='orders_daily_b')\n",
    "\n",
    "df = (\n",
    "    orders_daily_a\n",
    "    .merge(orders_daily_b, left_on='date', right_on='date', how='left')\n",
    "    .merge(visitors_daily_a, left_on='date', right_on='date', how='left')\n",
    "    .merge(visitors_daily_b, left_on='date', right_on='date', how='left')\n",
    "    .merge(visitors_cumsum_a, left_on='date', right_on='date', how='left')\n",
    "    .merge(visitors_cumsum_b, left_on='date', right_on='date', how='left')\n",
    "    .merge(revenue_cumsum_a, left_on='date', right_on='date', how='left')\n",
    "    .merge(revenue_cumsum_b, left_on='date', right_on='date', how='left')\n",
    ")\n",
    "df = df.rename(columns={'visitors_x':'visitors_daily_a', 'visitors_y':'visitors_daily_b'})\n",
    "df['avg_bill_cumsum_a'] = round(df['cumsum_revenue_a'] / df['orders_cumsum_a'], 2) \n",
    "df['avg_bill_cumsum_b'] = round(df['cumsum_revenue_b'] / df['orders_cumsum_b'], 2)\n",
    "df"
   ]
  },
  {
   "cell_type": "markdown",
   "metadata": {},
   "source": [
    "Таблица успешно построена: получены все необходимые поля "
   ]
  },
  {
   "cell_type": "markdown",
   "metadata": {},
   "source": [
    "<a class=\"anchor\" id=\"chapter2-2-2\"></a>\n",
    "#### 2.2.2 Кумулятивная средняя выручка \n",
    "\n",
    "[назад к оглавлению](#head-main)"
   ]
  },
  {
   "cell_type": "code",
   "execution_count": 13,
   "metadata": {},
   "outputs": [
    {
     "data": {
      "image/png": "[encoded data removed]",
      "text/plain": [
       "<Figure size 1600x900 with 1 Axes>"
      ]
     },
     "metadata": {},
     "output_type": "display_data"
    }
   ],
   "source": [
    "plt.figure(figsize=(16,9))\n",
    "plt.plot(df['date'], df['cumsum_revenue_a'], label='A')\n",
    "plt.plot(df['date'], df['cumsum_revenue_b'], label='B')\n",
    "plt.title('График кумулятивной выручки A/B-теста', fontsize=17)\n",
    "plt.ylabel('Кумулятивная выручка, млн', fontsize=13)\n",
    "plt.xlabel('Дата')\n",
    "plt.grid()\n",
    "plt.legend(fontsize=15)\n",
    "plt.show()"
   ]
  },
  {
   "cell_type": "markdown",
   "metadata": {},
   "source": [
    "**Вывод:**\n",
    "- группа `B` стаблильно превышает по выручке группу `А` на протяжении всего теста \n",
    "- общая выручка группы `B` превосходит почти на 2млн "
   ]
  },
  {
   "cell_type": "markdown",
   "metadata": {},
   "source": [
    "<a class=\"anchor\" id=\"chapter2-2-3\"></a>\n",
    "#### 2.2.3 Кумулятинвый средний чек  \n",
    "\n",
    "[назад к оглавлению](#head-main)"
   ]
  },
  {
   "cell_type": "code",
   "execution_count": 14,
   "metadata": {
    "scrolled": false
   },
   "outputs": [
    {
     "data": {
      "image/png": "[encoded data removed]",
      "text/plain": [
       "<Figure size 1600x900 with 1 Axes>"
      ]
     },
     "metadata": {},
     "output_type": "display_data"
    }
   ],
   "source": [
    "plt.figure(figsize=(16,9))\n",
    "plt.plot(df['date'], df['avg_bill_cumsum_a'], label='A')\n",
    "plt.plot(df['date'], df['avg_bill_cumsum_b'], label='B')\n",
    "plt.title('График кумулятивного среднего чека  A/B-теста', fontsize=17)\n",
    "plt.ylabel('Кумулятивная чек', fontsize=13)\n",
    "plt.xlabel('Дата')\n",
    "plt.grid()\n",
    "plt.legend(fontsize=15)\n",
    "plt.show()"
   ]
  },
  {
   "cell_type": "markdown",
   "metadata": {},
   "source": [
    "**Вывод:**\n",
    "- Примерно в середине тестирования средний кумулятивный чек группы `В` стал значительно превосходить чек группы `A`"
   ]
  },
  {
   "cell_type": "markdown",
   "metadata": {},
   "source": [
    "<a class=\"anchor\" id=\"chapter2-2-4\"></a>\n",
    "#### 2.2.4 График относительного среднего чека \n",
    "\n",
    "[назад к оглавлению](#head-main)"
   ]
  },
  {
   "cell_type": "code",
   "execution_count": 15,
   "metadata": {},
   "outputs": [
    {
     "data": {
      "image/png": "[encoded data removed]",
      "text/plain": [
       "<Figure size 1600x900 with 1 Axes>"
      ]
     },
     "metadata": {},
     "output_type": "display_data"
    }
   ],
   "source": [
    "plt.figure(figsize=(16,9))\n",
    "plt.plot(df['date'], (df['avg_bill_cumsum_b']/df['avg_bill_cumsum_a'] - 1))\n",
    "plt.axhline(linestyle='--', color='red')\n",
    "plt.title('График относительного различия средних чеков', fontsize=17)\n",
    "plt.ylabel('Уровень относительного различия')\n",
    "plt.xlabel('Дата')\n",
    "plt.grid()\n",
    "plt.show()"
   ]
  },
  {
   "cell_type": "markdown",
   "metadata": {},
   "source": [
    "**Вывод:**\n",
    "- В динамике видно, как чек группы `В` изменялся отностиельно `A`\n",
    "\n",
    "Благодаря избеганию проблемы подглядывания за счёт изучений кумулятивных показателей, отдельно выбранный день мог показать нам недостовернный результат, как это видно на графике в первый день тестирования "
   ]
  },
  {
   "cell_type": "markdown",
   "metadata": {},
   "source": [
    "<a class=\"anchor\" id=\"chapter2-2-5\"></a>\n",
    "####  2.2.5 График среднего числа заказов на посетителя \n",
    "\n",
    "[назад к оглавлению](#head-main)"
   ]
  },
  {
   "cell_type": "code",
   "execution_count": 16,
   "metadata": {
    "scrolled": false
   },
   "outputs": [
    {
     "data": {
      "image/png": "[encoded data removed]",
      "text/plain": [
       "<Figure size 1600x900 with 1 Axes>"
      ]
     },
     "metadata": {},
     "output_type": "display_data"
    }
   ],
   "source": [
    "plt.figure(figsize=(16,9))\n",
    "plt.plot(df['date'], df['orders_cumsum_a'] / df['cumsum_visitors_a'], label='A')\n",
    "plt.plot(df['date'], df['orders_cumsum_b'] / df['cumsum_visitors_b'], label='B')\n",
    "plt.title('График кумулятивной конверсии посетителей по группам', fontsize=17)\n",
    "plt.ylabel('Конверсия', fontsize=13)\n",
    "plt.xlabel('Дата')\n",
    "plt.axhline(y=0.0345, linestyle='--', color='green')\n",
    "plt.axhline(y=0.03, linestyle='--', color='red')\n",
    "plt.grid()\n",
    "plt.legend()\n",
    "plt.show()"
   ]
  },
  {
   "cell_type": "markdown",
   "metadata": {},
   "source": [
    "**Вывод:**\n",
    "- с конверсией из посетителя в покупателя, группа `B` српавляется лучше\n",
    "\n",
    "Да, разница почти в 0.005, сложно согласиться, что разница невелика, но неразумно будет отрицать, что фактически она существует"
   ]
  },
  {
   "cell_type": "markdown",
   "metadata": {},
   "source": [
    "<a class=\"anchor\" id=\"chapter2-2-6\"></a>\n",
    "#### 2.2.6 График относительного изменения кумулятивного среднего количества заказов на посетителя группы\n",
    "\n",
    "\n",
    "[назад к оглавлению](#head-main)"
   ]
  },
  {
   "cell_type": "code",
   "execution_count": 17,
   "metadata": {
    "scrolled": false
   },
   "outputs": [
    {
     "data": {
      "image/png": "[encoded data removed]",
      "text/plain": [
       "<Figure size 1600x900 with 1 Axes>"
      ]
     },
     "metadata": {},
     "output_type": "display_data"
    }
   ],
   "source": [
    "plt.figure(figsize=(16,9))\n",
    "plt.plot(df['date'], \n",
    "         (df['orders_cumsum_b'] / df['cumsum_visitors_b']) / (df['orders_cumsum_a'] / df['cumsum_visitors_a']) - 1)\n",
    "plt.axhline(linestyle='--', color='red')\n",
    "plt.axhline(y=0.14,linestyle='--', color='grey')\n",
    "plt.title('график относительного изменения кумулятивного среднего количества заказов на посетителя группы', fontsize=17)\n",
    "plt.ylabel('Уровень относительного различия')\n",
    "plt.grid()\n",
    "plt.show()"
   ]
  },
  {
   "cell_type": "markdown",
   "metadata": {},
   "source": [
    "**Вывод:**\n",
    "- Относительная конверсия группы `B` больше в среднем на 14%"
   ]
  },
  {
   "cell_type": "markdown",
   "metadata": {},
   "source": [
    "<a class=\"anchor\" id=\"chapter2-2-7\"></a>\n",
    "#### 2.2.7 Среднее количество заказов на покупателя \n",
    "\n",
    "\n",
    "[назад к оглавлению](#head-main)"
   ]
  },
  {
   "cell_type": "code",
   "execution_count": 18,
   "metadata": {},
   "outputs": [
    {
     "data": {
      "image/png": "[encoded data removed]",
      "text/plain": [
       "<Figure size 1600x900 with 1 Axes>"
      ]
     },
     "metadata": {},
     "output_type": "display_data"
    }
   ],
   "source": [
    "user_orders = (orders.groupby('user_id', as_index=False).agg({'order_id':'nunique'})\n",
    "               .rename(columns={'order_id':'orders'})\n",
    "               .sort_values('orders', ascending=False))\n",
    "\n",
    "x_values = pd.Series(range(0, len(user_orders)))\n",
    "\n",
    "plt.figure(figsize=(16,9))\n",
    "plt.scatter(x_values, user_orders['orders'])\n",
    "plt.title('Количество заказов на одного покупателя, точечный график')\n",
    "plt.ylabel('Количетсво заказов')\n",
    "plt.show()"
   ]
  },
  {
   "cell_type": "markdown",
   "metadata": {},
   "source": [
    "**Вывод:**\n",
    "- присутствуют явные выбросы\n",
    "\n",
    "Посмотрим на перцентели в следующем пункте "
   ]
  },
  {
   "cell_type": "markdown",
   "metadata": {},
   "source": [
    "<a class=\"anchor\" id=\"chapter2-2-8\"></a>\n",
    "#### 2.2.8 95-й и 99-й перцентили количества заказов на пользователя\n",
    "\n",
    "\n",
    "[назад к оглавлению](#head-main)"
   ]
  },
  {
   "cell_type": "code",
   "execution_count": 19,
   "metadata": {},
   "outputs": [
    {
     "name": "stdout",
     "output_type": "stream",
     "text": [
      "Верхняя граница количество заказов на покупателя по 95-ому и 99-ому процентах: [2. 4.]\n"
     ]
    }
   ],
   "source": [
    "print('Верхняя граница количество заказов на покупателя по 95-ому и 99-ому процентах:', \n",
    "      np.percentile(user_orders['orders'], [95,99]))"
   ]
  },
  {
   "cell_type": "markdown",
   "metadata": {},
   "source": [
    "Предлагаю отсеить 1% аномальных пользователей, совершивших более 4ёх заказов"
   ]
  },
  {
   "cell_type": "markdown",
   "metadata": {},
   "source": [
    "<a class=\"anchor\" id=\"chapter2-2-9\"></a>\n",
    "#### 2.2.9 Точечный график стоимостей заказов\n",
    "\n",
    "\n",
    "[назад к оглавлению](#head-main)"
   ]
  },
  {
   "cell_type": "code",
   "execution_count": 20,
   "metadata": {},
   "outputs": [
    {
     "data": {
      "image/png": "[encoded data removed]",
      "text/plain": [
       "<Figure size 1600x900 with 1 Axes>"
      ]
     },
     "metadata": {},
     "output_type": "display_data"
    }
   ],
   "source": [
    "x_values = pd.Series(range(0, len(orders)))\n",
    "plt.figure(figsize=(16,9))\n",
    "plt.scatter(x_values, orders['revenue'])\n",
    "plt.title('Точечный график стоимости заказа')\n",
    "plt.ylabel('Стоимость заказа, млн')\n",
    "plt.show()"
   ]
  },
  {
   "cell_type": "markdown",
   "metadata": {},
   "source": [
    "**Вывод:**\n",
    "- аномальные значения существуют в небольшом количестве "
   ]
  },
  {
   "cell_type": "markdown",
   "metadata": {},
   "source": [
    "<a class=\"anchor\" id=\"chapter2-2-10\"></a>\n",
    "\n",
    "#### 2.2.10 95-й и 99-й перцентили стоимости заказов\n",
    "\n",
    "[назад к оглавлению](#head-main)"
   ]
  },
  {
   "cell_type": "code",
   "execution_count": 21,
   "metadata": {},
   "outputs": [
    {
     "name": "stdout",
     "output_type": "stream",
     "text": [
      "Верхняя граница стоимости заказа по 95-ому и 99-ому процентах: [28000.  58233.2]\n"
     ]
    }
   ],
   "source": [
    "print('Верхняя граница стоимости заказа по 95-ому и 99-ому процентах:', \n",
    "      np.percentile(orders['revenue'], [95,99]))\n"
   ]
  },
  {
   "cell_type": "markdown",
   "metadata": {},
   "source": [
    "Предлагаю сложить границы полученных перцентелей и разделить их на два, так мы получим усреднённую границу между 95-ым и 99-ым перцентилми.\n",
    "(понизим до 43 115р - максимальная стоимость заказа) "
   ]
  },
  {
   "cell_type": "markdown",
   "metadata": {},
   "source": [
    "<a class=\"anchor\" id=\"chapter2-2-11\"></a>\n",
    "\n",
    "#### 2.2.11 Статистическая разница среднего количества заказов на пользователя между группами \n",
    "\n",
    "Сформулируем гипотезу о равенстве среднего количества заказов пользоавтелей между двумя группами \n",
    "\n",
    "- H0: u1 = u2, а именно средние количетсво заказов первой группы совпадает с количеством заказов второй группы. Выбререм уровень статистической значимости в 5%. Если полученное p-значение окажется выше 0.05, можно сделать вывод о равенстве средних значений совокупностей, в противном случае применим альтернативную гипотезу.\n",
    "- H1: u1 < u2 \n",
    "\n",
    "Проверим гипотезу на двух выборках до отчистки данных от аномальных значений и после \n",
    "\n",
    "[назад к оглавлению](#head-main)"
   ]
  },
  {
   "cell_type": "code",
   "execution_count": 22,
   "metadata": {},
   "outputs": [
    {
     "name": "stdout",
     "output_type": "stream",
     "text": [
      "Результат с исходным датасетом:\n",
      "p-value - 0.0084\n",
      "Отвергаем нулевую гипотезу\n",
      "\n",
      "Результат после отчистки данных от аномальных значений:\n",
      "p-avlue - 0.00759\n",
      "Отвергаем нулевую гипотезу\n"
     ]
    },
    {
     "name": "stderr",
     "output_type": "stream",
     "text": [
      "C:\\Users\\breaking bear\\AppData\\Local\\Temp\\ipykernel_420\\4245373918.py:26: DeprecationWarning: Conversion of an array with ndim > 0 to a scalar is deprecated, and will error in future. Ensure you extract a single element from your array before performing this operation. (Deprecated NumPy 1.25.)\n",
      "  print('p-value -', round(float(result[1]),5))\n",
      "C:\\Users\\breaking bear\\AppData\\Local\\Temp\\ipykernel_420\\4245373918.py:53: DeprecationWarning: Conversion of an array with ndim > 0 to a scalar is deprecated, and will error in future. Ensure you extract a single element from your array before performing this operation. (Deprecated NumPy 1.25.)\n",
      "  print('p-avlue -', round(float(result[1]),5))\n"
     ]
    }
   ],
   "source": [
    "# сырые данные \n",
    "# формируем таблицы с заказми пользователей \n",
    "users_orders_a = (orders.query('group==\"A\"')\n",
    "                  .groupby('user_id', as_index=False)\n",
    "                  .agg({'order_id':'nunique'})\n",
    "                  .drop(columns='user_id'))\n",
    "\n",
    "users_orders_b = (orders.query('group==\"B\"')\n",
    "                  .groupby('user_id', as_index=False)\n",
    "                  .agg({'order_id':'nunique'})\n",
    "                  .drop(columns='user_id'))\n",
    "\n",
    "# добавим к полученным таблицам посетителей, не совершивших заказ\n",
    "users_orders_a = (pd.concat([users_orders_a,\n",
    "                     pd.Series(0, index=np.arange(visitors.query('group==\"A\"')['visitors'].sum() - \n",
    "                                                  len(orders.query('group==\"A\"')['order_id'])))],axis=0)\n",
    "                 .fillna(0).drop(columns=0))\n",
    "\n",
    "users_orders_b = (pd.concat([users_orders_b,\n",
    "                             pd.Series(0, index=np.arange(visitors.query('group==\"B\"')['visitors'].sum() - \n",
    "                                                  len(orders.query('group==\"B\"')['order_id'])))],axis=0)\n",
    "                 .fillna(0).drop(columns=0))\n",
    "alpha= 0.05\n",
    "print('Результат с исходным датасетом:')\n",
    "result = st.mannwhitneyu(users_orders_a, users_orders_b, alternative='less')\n",
    "print('p-value -', round(float(result[1]),5))\n",
    "try:\n",
    "    if result[1] < alpha:\n",
    "        print('Отвергаем нулевую гипотезу')\n",
    "    else: \n",
    "        print('Не получилось отвергнуть нулевую гипотезу')\n",
    "except:\n",
    "    print(p_value)\n",
    "print()\n",
    "\n",
    "# обработанные данные, ato - after trash out \n",
    "\n",
    "users_orders_a_ato = orders.query('group==\"A\"').groupby('user_id').agg({'order_id':'nunique'}).query('order_id <= 4')\n",
    "users_orders_b_ato = orders.query('group==\"B\"').groupby('user_id').agg({'order_id':'nunique'}).query('order_id <= 4')\n",
    "\n",
    "users_orders_a_ato = (pd.concat([users_orders_a_ato,\n",
    "                     pd.Series(0, index=np.arange(visitors.query('group==\"A\"')['visitors'].sum() - \n",
    "                                                  len(orders.query('group==\"A\"')['order_id'])))],axis=0)\n",
    "                 .fillna(0).drop(columns=0))\n",
    "\n",
    "users_orders_b_ato = (pd.concat([users_orders_b_ato,\n",
    "                             pd.Series(0, index=np.arange(visitors.query('group==\"B\"')['visitors'].sum() - \n",
    "                                                  len(orders.query('group==\"B\"')['order_id'])))],axis=0)\n",
    "                 .fillna(0).drop(columns=0))\n",
    "\n",
    "result = st.mannwhitneyu(users_orders_a_ato, users_orders_b_ato, alternative='less')\n",
    "print('Результат после отчистки данных от аномальных значений:')\n",
    "print('p-avlue -', round(float(result[1]),5))\n",
    "try:\n",
    "    if result[1] < alpha:\n",
    "        print('Отвергаем нулевую гипотезу')\n",
    "    else: \n",
    "        print('Не получилось отвергнуть нулевую гипотезу')\n",
    "except:\n",
    "    print(p_value)"
   ]
  },
  {
   "cell_type": "markdown",
   "metadata": {},
   "source": [
    "**Вывод:**\n",
    "- Статистическая значимость изменилась лишь на большую 0,17% \n",
    "- Относительная разница среднего изменилась на 0,15% \n",
    "\n",
    "Выходит, что существенной разницы с аномальными и без аномальных значений не появляется. Зато остаётся факт доминирования среднего числа заказов на пользователя группы `B`"
   ]
  },
  {
   "cell_type": "markdown",
   "metadata": {},
   "source": [
    "<a class=\"anchor\" id=\"chapter2-2-12\"></a>\n",
    "#### 2.2.12 Статистическая разница средней стоимости заказа \n"
   ]
  },
  {
   "cell_type": "markdown",
   "metadata": {},
   "source": [
    "Сформулируем гипотезу о средних чеках выборок следующим образом:\n",
    "- H0: u1 = u2. Средние чеки выборок равны между собой. Выберем уровень статистической значимости 5% и проведём двусторонний тест. Если p-значение в итоге превысит уровень статистической значимости, можно сделать вывод о равенстве средней стоимсоти заказа двух выборок \n",
    "- H1: u1 < u2. Альтернативная гипотеза, из которой следует, что средняя стоимость заказа первой выборки ниже, чем у второй выборки\n",
    "\n",
    "Проверим гипотезу на двух выборках до отчистки данных от аномальных значений и после \n",
    "\n",
    "[назад к оглавлению](#head-main)"
   ]
  },
  {
   "cell_type": "code",
   "execution_count": 23,
   "metadata": {},
   "outputs": [
    {
     "name": "stdout",
     "output_type": "stream",
     "text": [
      "P-value до отчистки данных: 0.72929\n",
      "P-value после отчистки данных: 0.44775\n"
     ]
    }
   ],
   "source": [
    "# сырые данные \n",
    "print('P-value до отчистки данных:',\n",
    "    round(st.mannwhitneyu(orders.query('group==\"A\"')['revenue'], orders.query('group==\"B\"')['revenue'])[1],5))\n",
    "\n",
    "# обновлённые данные \n",
    "wlfstn_new_orders = orders.query('revenue <= 43115')\n",
    "\n",
    "print('P-value после отчистки данных:',\n",
    "    round(st.mannwhitneyu(wlfstn_new_orders.query('group==\"A\"')['revenue'], \n",
    "                            wlfstn_new_orders.query('group==\"B\"')['revenue'])\n",
    "            [1],5))"
   ]
  },
  {
   "cell_type": "markdown",
   "metadata": {},
   "source": [
    "**Вывод:**\n",
    "- При отсеиваннии анмаольных данных уровень статистической значимости различий средних чеков серьёзно снижается на 28%\n",
    "\n",
    "Существенно такой результат ни на что не влияет из-за выбранного уровня статистической значимости "
   ]
  },
  {
   "cell_type": "markdown",
   "metadata": {},
   "source": [
    "<a class=\"anchor\" id=\"chapter2-3\"></a>\n",
    "\n",
    "### 2.3 Итоги анализа результатов тестирования \n",
    "\n",
    "- Количественно группы пользователей почти не различимы, имеет место быть перевыс в сторону группы `B`. Из чего можно сделать вывод, что методы, применяемые к группы `B`, лучше справляютися с задачей привленчения пользователей на сайт. \n",
    "- Группа `B` приносит значительно большую выручку, чем группа `A`. На момент окончания тестирования \n",
    "- Посетители из группы `B` чаще решаются на покупки, чем вторая группа, что видно по графику конверсии, что и повышает выручку группы `B`\n",
    "- Среднее количество заказов на покупателя обеих находится в пределах статистической значимости, то же можно сказать и о чеке\n",
    "\n",
    "Пользователи из группы `B` качественне пользователей из другой группы почти по всем показателям. Рекомендуется внедрить изменения, применённые к группе `B` для всех пользователей. \n",
    "\n",
    "Тест предлагаю считать завершённым. Длинною в 1мес тест уже может считаться двольно длительным\n",
    "\n",
    "[назад к оглавлению](#head-main)"
   ]
  },
  {
   "cell_type": "code",
   "execution_count": null,
   "metadata": {},
   "outputs": [],
   "source": []
  },
  {
   "cell_type": "code",
   "execution_count": null,
   "metadata": {},
   "outputs": [],
   "source": []
  }
 ],
 "metadata": {
  "ExecuteTimeLog": [
   {
    "duration": 977,
    "start_time": "2024-10-11T04:35:36.735Z"
   },
   {
    "duration": 360,
    "start_time": "2024-10-11T04:35:43.600Z"
   },
   {
    "duration": 20,
    "start_time": "2024-10-11T04:56:03.200Z"
   },
   {
    "duration": 144,
    "start_time": "2024-10-11T04:56:06.646Z"
   },
   {
    "duration": 34,
    "start_time": "2024-10-11T04:56:07.486Z"
   },
   {
    "duration": 6,
    "start_time": "2024-10-11T05:09:18.989Z"
   },
   {
    "duration": 12,
    "start_time": "2024-10-11T05:09:45.987Z"
   },
   {
    "duration": 11,
    "start_time": "2024-10-11T05:09:58.529Z"
   },
   {
    "duration": 13,
    "start_time": "2024-10-11T05:11:47.541Z"
   },
   {
    "duration": 10,
    "start_time": "2024-10-11T05:12:22.296Z"
   },
   {
    "duration": 10,
    "start_time": "2024-10-11T05:12:24.994Z"
   },
   {
    "duration": 50,
    "start_time": "2024-10-12T08:57:51.430Z"
   },
   {
    "duration": 1167,
    "start_time": "2024-10-12T08:57:53.671Z"
   },
   {
    "duration": 149,
    "start_time": "2024-10-12T08:57:54.840Z"
   },
   {
    "duration": 36,
    "start_time": "2024-10-12T08:57:54.990Z"
   },
   {
    "duration": 3,
    "start_time": "2024-10-12T08:58:11.518Z"
   },
   {
    "duration": 29,
    "start_time": "2024-10-12T08:58:12.140Z"
   },
   {
    "duration": 29,
    "start_time": "2024-10-12T08:58:12.602Z"
   },
   {
    "duration": 30,
    "start_time": "2024-10-12T09:01:05.142Z"
   },
   {
    "duration": 22,
    "start_time": "2024-10-12T09:01:21.589Z"
   },
   {
    "duration": 11,
    "start_time": "2024-10-12T09:01:22.722Z"
   },
   {
    "duration": 39,
    "start_time": "2024-10-12T09:41:21.132Z"
   },
   {
    "duration": 35,
    "start_time": "2024-10-12T09:41:33.189Z"
   },
   {
    "duration": 36,
    "start_time": "2024-10-12T09:41:37.844Z"
   },
   {
    "duration": 37,
    "start_time": "2024-10-12T09:41:44.384Z"
   },
   {
    "duration": 35,
    "start_time": "2024-10-12T09:41:48.273Z"
   },
   {
    "duration": 35,
    "start_time": "2024-10-12T09:41:51.294Z"
   },
   {
    "duration": 39,
    "start_time": "2024-10-12T09:41:56.398Z"
   },
   {
    "duration": 38,
    "start_time": "2024-10-12T09:42:07.565Z"
   },
   {
    "duration": 63,
    "start_time": "2024-10-12T09:42:30.882Z"
   },
   {
    "duration": 38,
    "start_time": "2024-10-12T09:42:34.853Z"
   },
   {
    "duration": 3,
    "start_time": "2024-10-12T09:42:41.332Z"
   },
   {
    "duration": 166,
    "start_time": "2024-10-12T10:17:17.498Z"
   },
   {
    "duration": 9,
    "start_time": "2024-10-12T10:17:38.224Z"
   },
   {
    "duration": 12,
    "start_time": "2024-10-12T10:17:42.818Z"
   },
   {
    "duration": 13,
    "start_time": "2024-10-12T10:19:57.616Z"
   },
   {
    "duration": 12,
    "start_time": "2024-10-12T10:20:30.511Z"
   },
   {
    "duration": 67,
    "start_time": "2024-10-12T10:20:33.063Z"
   },
   {
    "duration": 12,
    "start_time": "2024-10-12T10:20:33.230Z"
   },
   {
    "duration": 17,
    "start_time": "2024-10-12T10:20:55.153Z"
   },
   {
    "duration": 17,
    "start_time": "2024-10-12T10:21:04.353Z"
   },
   {
    "duration": 17,
    "start_time": "2024-10-12T10:21:24.740Z"
   },
   {
    "duration": 20,
    "start_time": "2024-10-12T10:21:32.214Z"
   },
   {
    "duration": 3,
    "start_time": "2024-10-12T10:21:55.732Z"
   },
   {
    "duration": 2,
    "start_time": "2024-10-12T10:22:51.873Z"
   },
   {
    "duration": 68,
    "start_time": "2024-10-12T10:23:49.141Z"
   },
   {
    "duration": 46,
    "start_time": "2024-10-12T10:24:29.889Z"
   },
   {
    "duration": 44,
    "start_time": "2024-10-12T10:24:35.051Z"
   },
   {
    "duration": 8,
    "start_time": "2024-10-12T10:24:39.800Z"
   },
   {
    "duration": 4,
    "start_time": "2024-10-12T10:24:44.569Z"
   },
   {
    "duration": 19,
    "start_time": "2024-10-12T10:24:49.398Z"
   },
   {
    "duration": 4,
    "start_time": "2024-10-12T10:24:56.552Z"
   },
   {
    "duration": 3,
    "start_time": "2024-10-12T10:25:08.525Z"
   },
   {
    "duration": 17,
    "start_time": "2024-10-12T10:25:09.162Z"
   },
   {
    "duration": 40,
    "start_time": "2024-10-12T10:27:25.393Z"
   },
   {
    "duration": 13,
    "start_time": "2024-10-12T10:45:18.407Z"
   },
   {
    "duration": 5,
    "start_time": "2024-10-12T10:47:02.543Z"
   },
   {
    "duration": 8,
    "start_time": "2024-10-12T10:47:41.196Z"
   },
   {
    "duration": 6,
    "start_time": "2024-10-12T10:47:54.087Z"
   },
   {
    "duration": 13,
    "start_time": "2024-10-12T10:47:54.741Z"
   },
   {
    "duration": 16,
    "start_time": "2024-10-12T10:48:08.124Z"
   },
   {
    "duration": 14,
    "start_time": "2024-10-12T10:48:10.956Z"
   },
   {
    "duration": 8,
    "start_time": "2024-10-12T10:48:22.404Z"
   },
   {
    "duration": 8,
    "start_time": "2024-10-12T10:48:32.793Z"
   },
   {
    "duration": 8,
    "start_time": "2024-10-12T10:48:51.975Z"
   },
   {
    "duration": 40,
    "start_time": "2024-10-12T10:49:07.567Z"
   },
   {
    "duration": 45,
    "start_time": "2024-10-12T10:49:41.306Z"
   },
   {
    "duration": 8,
    "start_time": "2024-10-12T10:49:43.942Z"
   },
   {
    "duration": 10,
    "start_time": "2024-10-12T10:49:49.047Z"
   },
   {
    "duration": 13,
    "start_time": "2024-10-12T10:49:57.291Z"
   },
   {
    "duration": 9,
    "start_time": "2024-10-12T10:50:01.318Z"
   },
   {
    "duration": 8,
    "start_time": "2024-10-12T10:50:31.923Z"
   },
   {
    "duration": 9,
    "start_time": "2024-10-12T10:50:52.036Z"
   },
   {
    "duration": 9,
    "start_time": "2024-10-12T10:51:37.262Z"
   },
   {
    "duration": 15,
    "start_time": "2024-10-12T10:56:57.753Z"
   },
   {
    "duration": 47,
    "start_time": "2024-10-12T10:58:30.346Z"
   },
   {
    "duration": 10,
    "start_time": "2024-10-12T10:58:36.297Z"
   },
   {
    "duration": 12,
    "start_time": "2024-10-12T10:58:52.674Z"
   },
   {
    "duration": 10,
    "start_time": "2024-10-12T10:58:57.485Z"
   },
   {
    "duration": 12,
    "start_time": "2024-10-12T11:38:23.200Z"
   },
   {
    "duration": 51,
    "start_time": "2024-10-12T11:39:29.143Z"
   },
   {
    "duration": 9,
    "start_time": "2024-10-12T11:39:33.414Z"
   },
   {
    "duration": 9,
    "start_time": "2024-10-12T11:39:39.451Z"
   },
   {
    "duration": 4,
    "start_time": "2024-10-12T11:39:44.338Z"
   },
   {
    "duration": 10,
    "start_time": "2024-10-12T11:40:16.387Z"
   },
   {
    "duration": 5,
    "start_time": "2024-10-12T11:40:20.230Z"
   },
   {
    "duration": 5,
    "start_time": "2024-10-12T11:40:29.159Z"
   },
   {
    "duration": 4,
    "start_time": "2024-10-12T11:40:46.037Z"
   },
   {
    "duration": 5,
    "start_time": "2024-10-12T11:40:53.315Z"
   },
   {
    "duration": 66,
    "start_time": "2024-10-12T11:50:05.257Z"
   },
   {
    "duration": 71,
    "start_time": "2024-10-12T11:50:12.439Z"
   },
   {
    "duration": 27,
    "start_time": "2024-10-12T12:03:40.786Z"
   },
   {
    "duration": 32,
    "start_time": "2024-10-12T12:03:54.267Z"
   },
   {
    "duration": 30,
    "start_time": "2024-10-12T12:04:11.987Z"
   },
   {
    "duration": 637,
    "start_time": "2024-10-12T12:05:53.476Z"
   },
   {
    "duration": 59,
    "start_time": "2024-10-12T12:06:03.338Z"
   },
   {
    "duration": 45,
    "start_time": "2024-10-12T12:06:09.332Z"
   },
   {
    "duration": 59,
    "start_time": "2024-10-12T12:06:19.309Z"
   },
   {
    "duration": 55,
    "start_time": "2024-10-12T12:06:40.120Z"
   },
   {
    "duration": 45,
    "start_time": "2024-10-12T12:06:46.474Z"
   },
   {
    "duration": 88,
    "start_time": "2024-10-12T12:06:49.411Z"
   },
   {
    "duration": 89,
    "start_time": "2024-10-12T12:14:30.907Z"
   },
   {
    "duration": 89,
    "start_time": "2024-10-12T12:14:36.276Z"
   },
   {
    "duration": 91,
    "start_time": "2024-10-12T12:14:50.515Z"
   },
   {
    "duration": 52,
    "start_time": "2024-10-12T12:15:50.432Z"
   },
   {
    "duration": 150,
    "start_time": "2024-10-12T12:15:53.760Z"
   },
   {
    "duration": 86,
    "start_time": "2024-10-12T12:16:01.008Z"
   },
   {
    "duration": 96,
    "start_time": "2024-10-12T12:16:16.065Z"
   },
   {
    "duration": 97,
    "start_time": "2024-10-12T12:16:51.555Z"
   },
   {
    "duration": 1192,
    "start_time": "2024-10-12T12:34:48.404Z"
   },
   {
    "duration": 111,
    "start_time": "2024-10-12T12:35:34.570Z"
   },
   {
    "duration": 101,
    "start_time": "2024-10-12T12:35:42.091Z"
   },
   {
    "duration": 68,
    "start_time": "2024-10-12T12:40:02.684Z"
   },
   {
    "duration": 132,
    "start_time": "2024-10-12T12:40:06.707Z"
   },
   {
    "duration": 126,
    "start_time": "2024-10-12T12:40:13.381Z"
   },
   {
    "duration": 143,
    "start_time": "2024-10-12T12:40:16.108Z"
   },
   {
    "duration": 57,
    "start_time": "2024-10-12T12:40:57.615Z"
   },
   {
    "duration": 158,
    "start_time": "2024-10-12T12:41:16.107Z"
   },
   {
    "duration": 164,
    "start_time": "2024-10-12T12:42:37.310Z"
   },
   {
    "duration": 31,
    "start_time": "2024-10-12T12:43:26.662Z"
   },
   {
    "duration": 64,
    "start_time": "2024-10-12T12:43:45.768Z"
   },
   {
    "duration": 63,
    "start_time": "2024-10-12T12:43:55.798Z"
   },
   {
    "duration": 3,
    "start_time": "2024-10-12T12:44:40.320Z"
   },
   {
    "duration": 29,
    "start_time": "2024-10-12T12:44:40.564Z"
   },
   {
    "duration": 30,
    "start_time": "2024-10-12T12:44:40.859Z"
   },
   {
    "duration": 10,
    "start_time": "2024-10-12T12:44:41.210Z"
   },
   {
    "duration": 11,
    "start_time": "2024-10-12T12:44:41.538Z"
   },
   {
    "duration": 66,
    "start_time": "2024-10-12T12:44:41.845Z"
   },
   {
    "duration": 12,
    "start_time": "2024-10-12T12:44:41.986Z"
   },
   {
    "duration": 3,
    "start_time": "2024-10-12T12:44:42.135Z"
   },
   {
    "duration": 39,
    "start_time": "2024-10-12T12:44:42.282Z"
   },
   {
    "duration": 12,
    "start_time": "2024-10-12T12:44:42.857Z"
   },
   {
    "duration": 12,
    "start_time": "2024-10-12T12:44:43.607Z"
   },
   {
    "duration": 13,
    "start_time": "2024-10-12T12:44:44.305Z"
   },
   {
    "duration": 65,
    "start_time": "2024-10-12T12:44:44.721Z"
   },
   {
    "duration": 65,
    "start_time": "2024-10-12T12:45:21.998Z"
   },
   {
    "duration": 67,
    "start_time": "2024-10-12T12:45:56.776Z"
   },
   {
    "duration": 124,
    "start_time": "2024-10-12T12:46:40.656Z"
   },
   {
    "duration": 137,
    "start_time": "2024-10-12T12:46:43.269Z"
   },
   {
    "duration": 141,
    "start_time": "2024-10-12T12:51:22.072Z"
   },
   {
    "duration": 140,
    "start_time": "2024-10-12T12:55:06.763Z"
   },
   {
    "duration": 142,
    "start_time": "2024-10-12T12:55:26.558Z"
   },
   {
    "duration": 162,
    "start_time": "2024-10-12T13:01:07.251Z"
   },
   {
    "duration": 172,
    "start_time": "2024-10-12T13:35:44.085Z"
   },
   {
    "duration": 165,
    "start_time": "2024-10-12T13:36:43.750Z"
   },
   {
    "duration": 243,
    "start_time": "2024-10-12T13:37:12.179Z"
   },
   {
    "duration": 3,
    "start_time": "2024-10-12T13:37:56.649Z"
   },
   {
    "duration": 29,
    "start_time": "2024-10-12T13:37:56.905Z"
   },
   {
    "duration": 28,
    "start_time": "2024-10-12T13:37:57.097Z"
   },
   {
    "duration": 11,
    "start_time": "2024-10-12T13:37:57.392Z"
   },
   {
    "duration": 11,
    "start_time": "2024-10-12T13:37:57.668Z"
   },
   {
    "duration": 67,
    "start_time": "2024-10-12T13:37:57.994Z"
   },
   {
    "duration": 13,
    "start_time": "2024-10-12T13:37:58.149Z"
   },
   {
    "duration": 3,
    "start_time": "2024-10-12T13:37:58.296Z"
   },
   {
    "duration": 40,
    "start_time": "2024-10-12T13:37:58.465Z"
   },
   {
    "duration": 10,
    "start_time": "2024-10-12T13:37:58.956Z"
   },
   {
    "duration": 13,
    "start_time": "2024-10-12T13:37:59.927Z"
   },
   {
    "duration": 12,
    "start_time": "2024-10-12T13:38:00.591Z"
   },
   {
    "duration": 162,
    "start_time": "2024-10-12T13:38:00.923Z"
   },
   {
    "duration": 870,
    "start_time": "2024-10-12T13:38:01.104Z"
   },
   {
    "duration": 173,
    "start_time": "2024-10-12T13:38:41.612Z"
   },
   {
    "duration": 931,
    "start_time": "2024-10-12T13:39:12.522Z"
   },
   {
    "duration": 155,
    "start_time": "2024-10-12T13:39:24.329Z"
   },
   {
    "duration": 1008,
    "start_time": "2024-10-12T13:40:17.940Z"
   },
   {
    "duration": 166,
    "start_time": "2024-10-12T13:40:28.912Z"
   },
   {
    "duration": 849,
    "start_time": "2024-10-12T13:40:57.795Z"
   },
   {
    "duration": 783,
    "start_time": "2024-10-12T13:41:09.477Z"
   },
   {
    "duration": 148,
    "start_time": "2024-10-12T13:41:19.085Z"
   },
   {
    "duration": 148,
    "start_time": "2024-10-12T13:42:01.438Z"
   },
   {
    "duration": 151,
    "start_time": "2024-10-12T13:42:37.570Z"
   },
   {
    "duration": 810,
    "start_time": "2024-10-12T13:46:22.149Z"
   },
   {
    "duration": 225,
    "start_time": "2024-10-12T13:46:39.578Z"
   },
   {
    "duration": 156,
    "start_time": "2024-10-12T13:46:57.565Z"
   },
   {
    "duration": 138,
    "start_time": "2024-10-12T13:47:10.392Z"
   },
   {
    "duration": 163,
    "start_time": "2024-10-12T13:47:19.920Z"
   },
   {
    "duration": 211,
    "start_time": "2024-10-12T13:47:38.546Z"
   },
   {
    "duration": 210,
    "start_time": "2024-10-12T13:47:54.505Z"
   },
   {
    "duration": 209,
    "start_time": "2024-10-12T13:48:08.379Z"
   },
   {
    "duration": 193,
    "start_time": "2024-10-12T13:49:11.356Z"
   },
   {
    "duration": 207,
    "start_time": "2024-10-12T13:49:23.252Z"
   },
   {
    "duration": 221,
    "start_time": "2024-10-12T13:49:28.502Z"
   },
   {
    "duration": 284,
    "start_time": "2024-10-12T13:49:38.995Z"
   },
   {
    "duration": 214,
    "start_time": "2024-10-12T13:49:43.682Z"
   },
   {
    "duration": 218,
    "start_time": "2024-10-12T14:01:20.937Z"
   },
   {
    "duration": 216,
    "start_time": "2024-10-12T14:01:25.486Z"
   },
   {
    "duration": 400,
    "start_time": "2024-10-12T14:01:32.429Z"
   },
   {
    "duration": 215,
    "start_time": "2024-10-12T14:01:39.257Z"
   },
   {
    "duration": 216,
    "start_time": "2024-10-12T14:01:49.451Z"
   },
   {
    "duration": 820,
    "start_time": "2024-10-12T14:02:55.314Z"
   },
   {
    "duration": 999,
    "start_time": "2024-10-12T14:03:11.862Z"
   },
   {
    "duration": 241,
    "start_time": "2024-10-12T14:03:16.458Z"
   },
   {
    "duration": 245,
    "start_time": "2024-10-12T14:03:47.016Z"
   },
   {
    "duration": 150,
    "start_time": "2024-10-12T14:08:48.355Z"
   },
   {
    "duration": 138,
    "start_time": "2024-10-12T14:08:50.876Z"
   },
   {
    "duration": 147,
    "start_time": "2024-10-12T14:09:05.770Z"
   },
   {
    "duration": 244,
    "start_time": "2024-10-12T14:09:09.048Z"
   },
   {
    "duration": 188,
    "start_time": "2024-10-12T14:09:23.914Z"
   },
   {
    "duration": 342,
    "start_time": "2024-10-12T14:10:03.077Z"
   },
   {
    "duration": 285,
    "start_time": "2024-10-12T14:10:16.156Z"
   },
   {
    "duration": 324,
    "start_time": "2024-10-12T14:10:25.407Z"
   },
   {
    "duration": 314,
    "start_time": "2024-10-12T14:10:32.035Z"
   },
   {
    "duration": 295,
    "start_time": "2024-10-12T14:10:38.793Z"
   },
   {
    "duration": 251,
    "start_time": "2024-10-12T14:37:53.798Z"
   },
   {
    "duration": 252,
    "start_time": "2024-10-12T14:38:39.696Z"
   },
   {
    "duration": 240,
    "start_time": "2024-10-12T14:41:09.561Z"
   },
   {
    "duration": 371,
    "start_time": "2024-10-12T14:42:56.687Z"
   },
   {
    "duration": 138,
    "start_time": "2024-10-12T14:47:28.093Z"
   },
   {
    "duration": 118,
    "start_time": "2024-10-12T14:50:27.467Z"
   },
   {
    "duration": 131,
    "start_time": "2024-10-12T14:50:32.665Z"
   },
   {
    "duration": 10,
    "start_time": "2024-10-12T14:55:21.485Z"
   },
   {
    "duration": 15,
    "start_time": "2024-10-12T14:56:32.526Z"
   },
   {
    "duration": 112,
    "start_time": "2024-10-12T14:57:05.527Z"
   },
   {
    "duration": 151,
    "start_time": "2024-10-12T14:57:36.131Z"
   },
   {
    "duration": 11,
    "start_time": "2024-10-12T15:09:01.727Z"
   },
   {
    "duration": 9,
    "start_time": "2024-10-12T15:09:06.715Z"
   },
   {
    "duration": 8,
    "start_time": "2024-10-12T15:09:18.729Z"
   },
   {
    "duration": 11,
    "start_time": "2024-10-12T15:12:49.311Z"
   },
   {
    "duration": 6,
    "start_time": "2024-10-12T15:12:53.379Z"
   },
   {
    "duration": 6,
    "start_time": "2024-10-12T15:13:02.738Z"
   },
   {
    "duration": 5,
    "start_time": "2024-10-12T15:13:47.234Z"
   },
   {
    "duration": 13,
    "start_time": "2024-10-12T15:15:15.201Z"
   },
   {
    "duration": 7,
    "start_time": "2024-10-12T15:15:45.003Z"
   },
   {
    "duration": 6,
    "start_time": "2024-10-12T15:16:00.472Z"
   },
   {
    "duration": 249,
    "start_time": "2024-10-12T15:22:18.457Z"
   },
   {
    "duration": 163,
    "start_time": "2024-10-12T15:22:47.943Z"
   },
   {
    "duration": 5,
    "start_time": "2024-10-12T15:23:14.922Z"
   },
   {
    "duration": 4,
    "start_time": "2024-10-12T15:23:38.904Z"
   },
   {
    "duration": 164,
    "start_time": "2024-10-12T15:24:11.326Z"
   },
   {
    "duration": 167,
    "start_time": "2024-10-12T15:24:45.527Z"
   },
   {
    "duration": 5,
    "start_time": "2024-10-12T15:27:24.736Z"
   },
   {
    "duration": 5,
    "start_time": "2024-10-12T15:27:30.392Z"
   },
   {
    "duration": 168,
    "start_time": "2024-10-12T15:27:40.655Z"
   },
   {
    "duration": 28,
    "start_time": "2024-10-12T15:33:06.273Z"
   },
   {
    "duration": 11,
    "start_time": "2024-10-12T15:33:16.510Z"
   },
   {
    "duration": 29,
    "start_time": "2024-10-12T15:38:01.564Z"
   },
   {
    "duration": 17,
    "start_time": "2024-10-12T15:38:35.687Z"
   },
   {
    "duration": 33,
    "start_time": "2024-10-12T15:38:41.809Z"
   },
   {
    "duration": 31,
    "start_time": "2024-10-12T15:39:34.297Z"
   },
   {
    "duration": 36,
    "start_time": "2024-10-12T15:39:50.114Z"
   },
   {
    "duration": 41,
    "start_time": "2024-10-12T15:41:01.204Z"
   },
   {
    "duration": 35,
    "start_time": "2024-10-12T15:42:19.455Z"
   },
   {
    "duration": 41,
    "start_time": "2024-10-12T15:42:31.745Z"
   },
   {
    "duration": 35,
    "start_time": "2024-10-12T15:42:47.384Z"
   },
   {
    "duration": 43,
    "start_time": "2024-10-12T15:51:59.541Z"
   },
   {
    "duration": 1506,
    "start_time": "2024-10-12T15:52:11.657Z"
   },
   {
    "duration": 39,
    "start_time": "2024-10-12T16:03:10.025Z"
   },
   {
    "duration": 45,
    "start_time": "2024-10-12T16:03:55.923Z"
   },
   {
    "duration": 43,
    "start_time": "2024-10-12T16:04:15.918Z"
   },
   {
    "duration": 52,
    "start_time": "2024-10-12T16:04:24.163Z"
   },
   {
    "duration": 67,
    "start_time": "2024-10-12T16:04:42.642Z"
   },
   {
    "duration": 53,
    "start_time": "2024-10-12T16:04:52.483Z"
   },
   {
    "duration": 36,
    "start_time": "2024-10-12T16:06:06.269Z"
   },
   {
    "duration": 72,
    "start_time": "2024-10-12T16:06:19.988Z"
   },
   {
    "duration": 105,
    "start_time": "2024-10-12T16:08:54.221Z"
   },
   {
    "duration": 11,
    "start_time": "2024-10-12T16:17:45.109Z"
   },
   {
    "duration": 12,
    "start_time": "2024-10-12T16:17:55.886Z"
   },
   {
    "duration": 10,
    "start_time": "2024-10-12T16:18:05.800Z"
   },
   {
    "duration": 12,
    "start_time": "2024-10-12T16:18:08.620Z"
   },
   {
    "duration": 22,
    "start_time": "2024-10-12T16:20:39.936Z"
   },
   {
    "duration": 43,
    "start_time": "2024-10-13T07:36:34.085Z"
   },
   {
    "duration": 1168,
    "start_time": "2024-10-13T07:36:39.451Z"
   },
   {
    "duration": 119,
    "start_time": "2024-10-13T07:36:40.621Z"
   },
   {
    "duration": 47,
    "start_time": "2024-10-13T07:36:40.741Z"
   },
   {
    "duration": 9,
    "start_time": "2024-10-13T07:36:40.789Z"
   },
   {
    "duration": 8,
    "start_time": "2024-10-13T07:36:40.799Z"
   },
   {
    "duration": 178,
    "start_time": "2024-10-13T07:36:40.901Z"
   },
   {
    "duration": 11,
    "start_time": "2024-10-13T07:36:41.081Z"
   },
   {
    "duration": 3,
    "start_time": "2024-10-13T07:36:41.400Z"
   },
   {
    "duration": 33,
    "start_time": "2024-10-13T07:36:41.579Z"
   },
   {
    "duration": 10,
    "start_time": "2024-10-13T07:36:42.150Z"
   },
   {
    "duration": 15,
    "start_time": "2024-10-13T07:36:42.768Z"
   },
   {
    "duration": 12,
    "start_time": "2024-10-13T07:36:43.380Z"
   },
   {
    "duration": 165,
    "start_time": "2024-10-13T07:36:43.814Z"
   },
   {
    "duration": 86,
    "start_time": "2024-10-13T07:37:28.179Z"
   },
   {
    "duration": 185,
    "start_time": "2024-10-13T07:37:35.960Z"
   },
   {
    "duration": 10,
    "start_time": "2024-10-13T08:37:48.519Z"
   },
   {
    "duration": 10,
    "start_time": "2024-10-13T08:37:53.489Z"
   },
   {
    "duration": 11,
    "start_time": "2024-10-13T08:38:04.411Z"
   },
   {
    "duration": 22,
    "start_time": "2024-10-13T08:38:26.046Z"
   },
   {
    "duration": 20,
    "start_time": "2024-10-13T08:38:41.735Z"
   },
   {
    "duration": 30,
    "start_time": "2024-10-13T08:39:00.900Z"
   },
   {
    "duration": 6,
    "start_time": "2024-10-13T08:39:07.067Z"
   },
   {
    "duration": 26,
    "start_time": "2024-10-13T08:39:07.401Z"
   },
   {
    "duration": 25,
    "start_time": "2024-10-13T08:39:07.567Z"
   },
   {
    "duration": 9,
    "start_time": "2024-10-13T08:39:07.896Z"
   },
   {
    "duration": 13,
    "start_time": "2024-10-13T08:39:08.268Z"
   },
   {
    "duration": 62,
    "start_time": "2024-10-13T08:39:09.057Z"
   },
   {
    "duration": 12,
    "start_time": "2024-10-13T08:39:09.534Z"
   },
   {
    "duration": 3,
    "start_time": "2024-10-13T08:39:10.287Z"
   },
   {
    "duration": 33,
    "start_time": "2024-10-13T08:39:11.009Z"
   },
   {
    "duration": 27,
    "start_time": "2024-10-13T08:39:12.468Z"
   },
   {
    "duration": 22,
    "start_time": "2024-10-13T08:39:19.168Z"
   },
   {
    "duration": 21,
    "start_time": "2024-10-13T08:40:02.430Z"
   },
   {
    "duration": 7,
    "start_time": "2024-10-13T09:22:24.077Z"
   },
   {
    "duration": 2,
    "start_time": "2024-10-13T09:22:28.757Z"
   },
   {
    "duration": 27,
    "start_time": "2024-10-13T09:22:28.992Z"
   },
   {
    "duration": 25,
    "start_time": "2024-10-13T09:22:29.121Z"
   },
   {
    "duration": 8,
    "start_time": "2024-10-13T09:22:29.368Z"
   },
   {
    "duration": 10,
    "start_time": "2024-10-13T09:22:29.593Z"
   },
   {
    "duration": 62,
    "start_time": "2024-10-13T09:22:30.098Z"
   },
   {
    "duration": 10,
    "start_time": "2024-10-13T09:22:30.242Z"
   },
   {
    "duration": 3,
    "start_time": "2024-10-13T09:22:30.494Z"
   },
   {
    "duration": 31,
    "start_time": "2024-10-13T09:22:30.738Z"
   },
   {
    "duration": 22,
    "start_time": "2024-10-13T09:22:31.137Z"
   },
   {
    "duration": 8,
    "start_time": "2024-10-13T09:22:31.550Z"
   },
   {
    "duration": 132,
    "start_time": "2024-10-13T09:22:32.107Z"
   },
   {
    "duration": 276,
    "start_time": "2024-10-13T09:22:32.495Z"
   },
   {
    "duration": 206,
    "start_time": "2024-10-13T09:22:32.901Z"
   },
   {
    "duration": 360,
    "start_time": "2024-10-13T09:22:33.345Z"
   },
   {
    "duration": 237,
    "start_time": "2024-10-13T09:22:33.771Z"
   },
   {
    "duration": 288,
    "start_time": "2024-10-13T09:22:34.229Z"
   },
   {
    "duration": 136,
    "start_time": "2024-10-13T09:22:34.518Z"
   },
   {
    "duration": 4,
    "start_time": "2024-10-13T09:22:35.136Z"
   },
   {
    "duration": 141,
    "start_time": "2024-10-13T09:22:35.779Z"
   },
   {
    "duration": 4,
    "start_time": "2024-10-13T09:22:36.358Z"
   },
   {
    "duration": 78,
    "start_time": "2024-10-13T09:22:36.936Z"
   },
   {
    "duration": 14,
    "start_time": "2024-10-13T09:22:37.212Z"
   },
   {
    "duration": 73,
    "start_time": "2024-10-13T09:23:19.511Z"
   },
   {
    "duration": 274,
    "start_time": "2024-10-13T10:47:55.992Z"
   },
   {
    "duration": 373,
    "start_time": "2024-10-13T10:48:03.992Z"
   },
   {
    "duration": 142,
    "start_time": "2024-10-13T10:51:03.323Z"
   },
   {
    "duration": 149,
    "start_time": "2024-10-13T10:52:39.574Z"
   },
   {
    "duration": 158,
    "start_time": "2024-10-13T10:53:05.252Z"
   },
   {
    "duration": 66,
    "start_time": "2024-10-13T10:55:35.699Z"
   },
   {
    "duration": 75,
    "start_time": "2024-10-13T10:55:39.120Z"
   },
   {
    "duration": 45,
    "start_time": "2024-10-13T10:55:39.799Z"
   },
   {
    "duration": 16,
    "start_time": "2024-10-13T10:55:45.693Z"
   },
   {
    "duration": 75,
    "start_time": "2024-10-13T11:08:34.083Z"
   },
   {
    "duration": 2,
    "start_time": "2024-10-13T11:08:57.478Z"
   },
   {
    "duration": 26,
    "start_time": "2024-10-13T11:08:57.790Z"
   },
   {
    "duration": 25,
    "start_time": "2024-10-13T11:08:57.940Z"
   },
   {
    "duration": 10,
    "start_time": "2024-10-13T11:08:58.243Z"
   },
   {
    "duration": 9,
    "start_time": "2024-10-13T11:08:58.580Z"
   },
   {
    "duration": 61,
    "start_time": "2024-10-13T11:08:59.390Z"
   },
   {
    "duration": 11,
    "start_time": "2024-10-13T11:08:59.575Z"
   },
   {
    "duration": 3,
    "start_time": "2024-10-13T11:09:00.239Z"
   },
   {
    "duration": 96,
    "start_time": "2024-10-13T11:09:00.272Z"
   },
   {
    "duration": 23,
    "start_time": "2024-10-13T11:09:00.801Z"
   },
   {
    "duration": 9,
    "start_time": "2024-10-13T11:09:01.311Z"
   },
   {
    "duration": 136,
    "start_time": "2024-10-13T11:09:01.951Z"
   },
   {
    "duration": 211,
    "start_time": "2024-10-13T11:09:02.469Z"
   },
   {
    "duration": 214,
    "start_time": "2024-10-13T11:09:02.976Z"
   },
   {
    "duration": 255,
    "start_time": "2024-10-13T11:09:03.496Z"
   },
   {
    "duration": 242,
    "start_time": "2024-10-13T11:09:04.110Z"
   },
   {
    "duration": 318,
    "start_time": "2024-10-13T11:09:04.663Z"
   },
   {
    "duration": 151,
    "start_time": "2024-10-13T11:09:05.353Z"
   },
   {
    "duration": 3,
    "start_time": "2024-10-13T11:09:06.037Z"
   },
   {
    "duration": 147,
    "start_time": "2024-10-13T11:09:06.990Z"
   },
   {
    "duration": 6,
    "start_time": "2024-10-13T11:09:09.964Z"
   },
   {
    "duration": 101,
    "start_time": "2024-10-13T11:09:11.172Z"
   },
   {
    "duration": 15,
    "start_time": "2024-10-13T11:09:13.023Z"
   },
   {
    "duration": 42,
    "start_time": "2024-10-13T11:09:35.478Z"
   },
   {
    "duration": 42,
    "start_time": "2024-10-13T11:09:44.769Z"
   },
   {
    "duration": 89,
    "start_time": "2024-10-13T11:10:08.228Z"
   },
   {
    "duration": 82,
    "start_time": "2024-10-13T11:10:13.420Z"
   },
   {
    "duration": 88,
    "start_time": "2024-10-13T11:10:49.045Z"
   },
   {
    "duration": 199,
    "start_time": "2024-10-13T11:25:31.670Z"
   },
   {
    "duration": 198,
    "start_time": "2024-10-13T11:25:38.972Z"
   },
   {
    "duration": 210,
    "start_time": "2024-10-13T11:25:44.369Z"
   },
   {
    "duration": 198,
    "start_time": "2024-10-13T11:25:59.743Z"
   },
   {
    "duration": 61,
    "start_time": "2024-10-13T18:29:13.003Z"
   },
   {
    "duration": 1392,
    "start_time": "2024-10-13T18:29:19.678Z"
   },
   {
    "duration": 151,
    "start_time": "2024-10-13T18:29:21.073Z"
   },
   {
    "duration": 40,
    "start_time": "2024-10-13T18:29:21.225Z"
   },
   {
    "duration": 12,
    "start_time": "2024-10-13T18:29:21.267Z"
   },
   {
    "duration": 13,
    "start_time": "2024-10-13T18:29:21.281Z"
   },
   {
    "duration": 178,
    "start_time": "2024-10-13T18:29:22.008Z"
   },
   {
    "duration": 15,
    "start_time": "2024-10-13T18:29:22.188Z"
   },
   {
    "duration": 4,
    "start_time": "2024-10-13T18:29:22.285Z"
   },
   {
    "duration": 47,
    "start_time": "2024-10-13T18:29:22.728Z"
   },
   {
    "duration": 32,
    "start_time": "2024-10-13T18:29:23.185Z"
   },
   {
    "duration": 11,
    "start_time": "2024-10-13T18:29:23.898Z"
   },
   {
    "duration": 158,
    "start_time": "2024-10-13T18:29:25.317Z"
   },
   {
    "duration": 349,
    "start_time": "2024-10-13T18:29:25.502Z"
   },
   {
    "duration": 273,
    "start_time": "2024-10-13T18:29:26.273Z"
   },
   {
    "duration": 414,
    "start_time": "2024-10-13T18:29:27.030Z"
   },
   {
    "duration": 316,
    "start_time": "2024-10-13T18:29:28.004Z"
   },
   {
    "duration": 379,
    "start_time": "2024-10-13T18:29:28.737Z"
   },
   {
    "duration": 180,
    "start_time": "2024-10-13T18:29:29.923Z"
   },
   {
    "duration": 5,
    "start_time": "2024-10-13T18:29:30.712Z"
   },
   {
    "duration": 193,
    "start_time": "2024-10-13T18:29:31.724Z"
   },
   {
    "duration": 5,
    "start_time": "2024-10-13T18:29:32.097Z"
   },
   {
    "duration": 107,
    "start_time": "2024-10-13T18:29:33.721Z"
   },
   {
    "duration": 109,
    "start_time": "2024-10-13T18:29:50.104Z"
   },
   {
    "duration": 107,
    "start_time": "2024-10-13T18:36:37.960Z"
   },
   {
    "duration": 167,
    "start_time": "2024-10-13T18:46:09.533Z"
   },
   {
    "duration": 104,
    "start_time": "2024-10-13T18:46:55.327Z"
   },
   {
    "duration": 116,
    "start_time": "2024-10-13T18:48:01.559Z"
   },
   {
    "duration": 109,
    "start_time": "2024-10-13T18:48:29.970Z"
   },
   {
    "duration": 104,
    "start_time": "2024-10-13T18:48:41.281Z"
   },
   {
    "duration": 123,
    "start_time": "2024-10-13T18:49:08.247Z"
   },
   {
    "duration": 106,
    "start_time": "2024-10-13T18:49:42.761Z"
   },
   {
    "duration": 118,
    "start_time": "2024-10-13T18:50:56.348Z"
   },
   {
    "duration": 69,
    "start_time": "2024-10-13T18:59:27.699Z"
   },
   {
    "duration": 21,
    "start_time": "2024-10-13T18:59:31.580Z"
   },
   {
    "duration": 351,
    "start_time": "2024-10-13T19:00:15.689Z"
   },
   {
    "duration": 386,
    "start_time": "2024-10-13T19:01:14.236Z"
   },
   {
    "duration": 345,
    "start_time": "2024-10-13T19:01:22.086Z"
   },
   {
    "duration": 403,
    "start_time": "2024-10-13T19:01:42.932Z"
   },
   {
    "duration": 320,
    "start_time": "2024-10-13T19:02:03.995Z"
   },
   {
    "duration": 377,
    "start_time": "2024-10-13T19:02:31.837Z"
   }
  ],
  "kernelspec": {
   "display_name": "Python 3 (ipykernel)",
   "language": "python",
   "name": "python3"
  },
  "language_info": {
   "codemirror_mode": {
    "name": "ipython",
    "version": 3
   },
   "file_extension": ".py",
   "mimetype": "text/x-python",
   "name": "python",
   "nbconvert_exporter": "python",
   "pygments_lexer": "ipython3",
   "version": "3.11.7"
  },
  "toc": {
   "base_numbering": 1,
   "nav_menu": {
    "height": "336px",
    "width": "757px"
   },
   "number_sections": true,
   "sideBar": true,
   "skip_h1_title": true,
   "title_cell": "Table of Contents",
   "title_sidebar": "Contents",
   "toc_cell": false,
   "toc_position": {},
   "toc_section_display": true,
   "toc_window_display": false
  }
 },
 "nbformat": 4,
 "nbformat_minor": 2
}
